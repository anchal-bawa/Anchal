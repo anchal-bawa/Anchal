{
  "nbformat": 4,
  "nbformat_minor": 0,
  "metadata": {
    "colab": {
      "provenance": [],
      "include_colab_link": true
    },
    "kernelspec": {
      "name": "python3",
      "display_name": "Python 3"
    },
    "language_info": {
      "name": "python"
    }
  },
  "cells": [
    {
      "cell_type": "markdown",
      "metadata": {
        "id": "view-in-github",
        "colab_type": "text"
      },
      "source": [
        "<a href=\"https://colab.research.google.com/github/anchal-bawa/Anchal/blob/main/Copy_of_KH_ML_Aa(NaiveBayesClassifier).ipynb\" target=\"_parent\"><img src=\"https://colab.research.google.com/assets/colab-badge.svg\" alt=\"Open In Colab\"/></a>"
      ]
    },
    {
      "cell_type": "code",
      "execution_count": null,
      "metadata": {
        "id": "SyewBPFevZU1",
        "colab": {
          "base_uri": "https://localhost:8080/"
        },
        "outputId": "4501cf5a-07a0-48a2-934e-e62cbb80b025"
      },
      "outputs": [
        {
          "output_type": "stream",
          "name": "stdout",
          "text": [
            "Drive already mounted at /content/drive; to attempt to forcibly remount, call drive.mount(\"/content/drive\", force_remount=True).\n"
          ]
        }
      ],
      "source": [
        "import pandas as pd\n",
        "import numpy as np\n",
        "import matplotlib.pyplot as plt\n",
        "import seaborn as sns\n",
        "from google.colab import drive\n",
        "drive.mount('/content/drive')\n"
      ]
    },
    {
      "cell_type": "code",
      "source": [
        "import pandas as pd\n",
        "\n",
        "df1 =pd.read_csv(\"drive/My Drive/Python/RTW sample AB.csv\")\n",
        "df1.head()"
      ],
      "metadata": {
        "id": "Du6ymz16PeUX",
        "outputId": "5c97669d-e5a3-463a-8f58-274479105724",
        "colab": {
          "base_uri": "https://localhost:8080/",
          "height": 557
        }
      },
      "execution_count": null,
      "outputs": [
        {
          "output_type": "execute_result",
          "data": {
            "text/plain": [
              "    Claim No  Occurrence No  Claim Financial Year  Agency NN Incident Date  \\\n",
              "0  13/005096              1                  2013       7069    01/11/2012   \n",
              "1  21/013033              1                  2021      63246    29/04/2021   \n",
              "2  16/005676              1                  2016    2043954    16/11/2015   \n",
              "3  15/002879              1                  2015      63246    04/09/2014   \n",
              "4  14/020489              2                  2014      63246    08/05/2014   \n",
              "\n",
              "  Finalised Date  Total Paid Paid Days Lost Service Start Date  \\\n",
              "0     24/01/2013   $8,580.00          26.01         02/11/2012   \n",
              "1     10/06/2021     $573.66              2         29/04/2021   \n",
              "2     04/01/2016     $796.97           2.02         16/11/2015   \n",
              "3     18/02/2015   $5,570.19             26         05/09/2014   \n",
              "4     29/01/2016  $35,406.63          75.09         03/10/2014   \n",
              "\n",
              "  Service End Date  ...                                      Mechanism  \\\n",
              "0       18/12/2012  ...  Muscular stress-lift, carry, put down objects   \n",
              "1       30/04/2021  ...                        Falls on the same level   \n",
              "2       17/11/2015  ...         Being assaulted by a person or persons   \n",
              "3       10/10/2014  ...        Muscular stress with no objects handled   \n",
              "4       12/01/2015  ...                        Falls on the same level   \n",
              "\n",
              "                                          Nature  \\\n",
              "0      Sprains and strains of joints and muscles   \n",
              "1  Open wound not including traumatic amputation   \n",
              "2  Open wound not including traumatic amputation   \n",
              "3      Sprains and strains of joints and muscles   \n",
              "4      Sprains and strains of joints and muscles   \n",
              "\n",
              "                                              Major  \\\n",
              "0  Intermediate Clerical, Sales and Service Workers   \n",
              "1  Intermediate Clerical, Sales and Service Workers   \n",
              "2                           Associate Professionals   \n",
              "3  Intermediate Clerical, Sales and Service Workers   \n",
              "4                 Tradespersons and Related Workers   \n",
              "\n",
              "                            Occupation    Gender Date of Birth Days to RTW  \\\n",
              "0              Personal Care Assistant  Male        05/11/1956          46   \n",
              "1  Teachers Aide (Education Assistant)  Female      18/08/1971           1   \n",
              "2             Residential Care Officer  Male        07/07/1967           1   \n",
              "3  Teachers Aide (Education Assistant)  Male        29/07/1973          35   \n",
              "4                     General Gardener  Male        06/02/1951         101   \n",
              "\n",
              "   RTW Category Age at Accident Date Settled  \n",
              "0  RTW 13 Weeks                   55       N  \n",
              "1  RTW 13 Weeks                   49       N  \n",
              "2  RTW 13 Weeks                   48       N  \n",
              "3  RTW 13 Weeks                   41       N  \n",
              "4  RTW 26 Weeks                   63       N  \n",
              "\n",
              "[5 rows x 25 columns]"
            ],
            "text/html": [
              "\n",
              "  <div id=\"df-b5ae200b-9153-4f99-90cf-c2aa231bb0bc\">\n",
              "    <div class=\"colab-df-container\">\n",
              "      <div>\n",
              "<style scoped>\n",
              "    .dataframe tbody tr th:only-of-type {\n",
              "        vertical-align: middle;\n",
              "    }\n",
              "\n",
              "    .dataframe tbody tr th {\n",
              "        vertical-align: top;\n",
              "    }\n",
              "\n",
              "    .dataframe thead th {\n",
              "        text-align: right;\n",
              "    }\n",
              "</style>\n",
              "<table border=\"1\" class=\"dataframe\">\n",
              "  <thead>\n",
              "    <tr style=\"text-align: right;\">\n",
              "      <th></th>\n",
              "      <th>Claim No</th>\n",
              "      <th>Occurrence No</th>\n",
              "      <th>Claim Financial Year</th>\n",
              "      <th>Agency NN</th>\n",
              "      <th>Incident Date</th>\n",
              "      <th>Finalised Date</th>\n",
              "      <th>Total Paid</th>\n",
              "      <th>Paid Days Lost</th>\n",
              "      <th>Service Start Date</th>\n",
              "      <th>Service End Date</th>\n",
              "      <th>...</th>\n",
              "      <th>Mechanism</th>\n",
              "      <th>Nature</th>\n",
              "      <th>Major</th>\n",
              "      <th>Occupation</th>\n",
              "      <th>Gender</th>\n",
              "      <th>Date of Birth</th>\n",
              "      <th>Days to RTW</th>\n",
              "      <th>RTW Category</th>\n",
              "      <th>Age at Accident Date</th>\n",
              "      <th>Settled</th>\n",
              "    </tr>\n",
              "  </thead>\n",
              "  <tbody>\n",
              "    <tr>\n",
              "      <th>0</th>\n",
              "      <td>13/005096</td>\n",
              "      <td>1</td>\n",
              "      <td>2013</td>\n",
              "      <td>7069</td>\n",
              "      <td>01/11/2012</td>\n",
              "      <td>24/01/2013</td>\n",
              "      <td>$8,580.00</td>\n",
              "      <td>26.01</td>\n",
              "      <td>02/11/2012</td>\n",
              "      <td>18/12/2012</td>\n",
              "      <td>...</td>\n",
              "      <td>Muscular stress-lift, carry, put down objects</td>\n",
              "      <td>Sprains and strains of joints and muscles</td>\n",
              "      <td>Intermediate Clerical, Sales and Service Workers</td>\n",
              "      <td>Personal Care Assistant</td>\n",
              "      <td>Male</td>\n",
              "      <td>05/11/1956</td>\n",
              "      <td>46</td>\n",
              "      <td>RTW 13 Weeks</td>\n",
              "      <td>55</td>\n",
              "      <td>N</td>\n",
              "    </tr>\n",
              "    <tr>\n",
              "      <th>1</th>\n",
              "      <td>21/013033</td>\n",
              "      <td>1</td>\n",
              "      <td>2021</td>\n",
              "      <td>63246</td>\n",
              "      <td>29/04/2021</td>\n",
              "      <td>10/06/2021</td>\n",
              "      <td>$573.66</td>\n",
              "      <td>2</td>\n",
              "      <td>29/04/2021</td>\n",
              "      <td>30/04/2021</td>\n",
              "      <td>...</td>\n",
              "      <td>Falls on the same level</td>\n",
              "      <td>Open wound not including traumatic amputation</td>\n",
              "      <td>Intermediate Clerical, Sales and Service Workers</td>\n",
              "      <td>Teachers Aide (Education Assistant)</td>\n",
              "      <td>Female</td>\n",
              "      <td>18/08/1971</td>\n",
              "      <td>1</td>\n",
              "      <td>RTW 13 Weeks</td>\n",
              "      <td>49</td>\n",
              "      <td>N</td>\n",
              "    </tr>\n",
              "    <tr>\n",
              "      <th>2</th>\n",
              "      <td>16/005676</td>\n",
              "      <td>1</td>\n",
              "      <td>2016</td>\n",
              "      <td>2043954</td>\n",
              "      <td>16/11/2015</td>\n",
              "      <td>04/01/2016</td>\n",
              "      <td>$796.97</td>\n",
              "      <td>2.02</td>\n",
              "      <td>16/11/2015</td>\n",
              "      <td>17/11/2015</td>\n",
              "      <td>...</td>\n",
              "      <td>Being assaulted by a person or persons</td>\n",
              "      <td>Open wound not including traumatic amputation</td>\n",
              "      <td>Associate Professionals</td>\n",
              "      <td>Residential Care Officer</td>\n",
              "      <td>Male</td>\n",
              "      <td>07/07/1967</td>\n",
              "      <td>1</td>\n",
              "      <td>RTW 13 Weeks</td>\n",
              "      <td>48</td>\n",
              "      <td>N</td>\n",
              "    </tr>\n",
              "    <tr>\n",
              "      <th>3</th>\n",
              "      <td>15/002879</td>\n",
              "      <td>1</td>\n",
              "      <td>2015</td>\n",
              "      <td>63246</td>\n",
              "      <td>04/09/2014</td>\n",
              "      <td>18/02/2015</td>\n",
              "      <td>$5,570.19</td>\n",
              "      <td>26</td>\n",
              "      <td>05/09/2014</td>\n",
              "      <td>10/10/2014</td>\n",
              "      <td>...</td>\n",
              "      <td>Muscular stress with no objects handled</td>\n",
              "      <td>Sprains and strains of joints and muscles</td>\n",
              "      <td>Intermediate Clerical, Sales and Service Workers</td>\n",
              "      <td>Teachers Aide (Education Assistant)</td>\n",
              "      <td>Male</td>\n",
              "      <td>29/07/1973</td>\n",
              "      <td>35</td>\n",
              "      <td>RTW 13 Weeks</td>\n",
              "      <td>41</td>\n",
              "      <td>N</td>\n",
              "    </tr>\n",
              "    <tr>\n",
              "      <th>4</th>\n",
              "      <td>14/020489</td>\n",
              "      <td>2</td>\n",
              "      <td>2014</td>\n",
              "      <td>63246</td>\n",
              "      <td>08/05/2014</td>\n",
              "      <td>29/01/2016</td>\n",
              "      <td>$35,406.63</td>\n",
              "      <td>75.09</td>\n",
              "      <td>03/10/2014</td>\n",
              "      <td>12/01/2015</td>\n",
              "      <td>...</td>\n",
              "      <td>Falls on the same level</td>\n",
              "      <td>Sprains and strains of joints and muscles</td>\n",
              "      <td>Tradespersons and Related Workers</td>\n",
              "      <td>General Gardener</td>\n",
              "      <td>Male</td>\n",
              "      <td>06/02/1951</td>\n",
              "      <td>101</td>\n",
              "      <td>RTW 26 Weeks</td>\n",
              "      <td>63</td>\n",
              "      <td>N</td>\n",
              "    </tr>\n",
              "  </tbody>\n",
              "</table>\n",
              "<p>5 rows × 25 columns</p>\n",
              "</div>\n",
              "      <button class=\"colab-df-convert\" onclick=\"convertToInteractive('df-b5ae200b-9153-4f99-90cf-c2aa231bb0bc')\"\n",
              "              title=\"Convert this dataframe to an interactive table.\"\n",
              "              style=\"display:none;\">\n",
              "        \n",
              "  <svg xmlns=\"http://www.w3.org/2000/svg\" height=\"24px\"viewBox=\"0 0 24 24\"\n",
              "       width=\"24px\">\n",
              "    <path d=\"M0 0h24v24H0V0z\" fill=\"none\"/>\n",
              "    <path d=\"M18.56 5.44l.94 2.06.94-2.06 2.06-.94-2.06-.94-.94-2.06-.94 2.06-2.06.94zm-11 1L8.5 8.5l.94-2.06 2.06-.94-2.06-.94L8.5 2.5l-.94 2.06-2.06.94zm10 10l.94 2.06.94-2.06 2.06-.94-2.06-.94-.94-2.06-.94 2.06-2.06.94z\"/><path d=\"M17.41 7.96l-1.37-1.37c-.4-.4-.92-.59-1.43-.59-.52 0-1.04.2-1.43.59L10.3 9.45l-7.72 7.72c-.78.78-.78 2.05 0 2.83L4 21.41c.39.39.9.59 1.41.59.51 0 1.02-.2 1.41-.59l7.78-7.78 2.81-2.81c.8-.78.8-2.07 0-2.86zM5.41 20L4 18.59l7.72-7.72 1.47 1.35L5.41 20z\"/>\n",
              "  </svg>\n",
              "      </button>\n",
              "      \n",
              "  <style>\n",
              "    .colab-df-container {\n",
              "      display:flex;\n",
              "      flex-wrap:wrap;\n",
              "      gap: 12px;\n",
              "    }\n",
              "\n",
              "    .colab-df-convert {\n",
              "      background-color: #E8F0FE;\n",
              "      border: none;\n",
              "      border-radius: 50%;\n",
              "      cursor: pointer;\n",
              "      display: none;\n",
              "      fill: #1967D2;\n",
              "      height: 32px;\n",
              "      padding: 0 0 0 0;\n",
              "      width: 32px;\n",
              "    }\n",
              "\n",
              "    .colab-df-convert:hover {\n",
              "      background-color: #E2EBFA;\n",
              "      box-shadow: 0px 1px 2px rgba(60, 64, 67, 0.3), 0px 1px 3px 1px rgba(60, 64, 67, 0.15);\n",
              "      fill: #174EA6;\n",
              "    }\n",
              "\n",
              "    [theme=dark] .colab-df-convert {\n",
              "      background-color: #3B4455;\n",
              "      fill: #D2E3FC;\n",
              "    }\n",
              "\n",
              "    [theme=dark] .colab-df-convert:hover {\n",
              "      background-color: #434B5C;\n",
              "      box-shadow: 0px 1px 3px 1px rgba(0, 0, 0, 0.15);\n",
              "      filter: drop-shadow(0px 1px 2px rgba(0, 0, 0, 0.3));\n",
              "      fill: #FFFFFF;\n",
              "    }\n",
              "  </style>\n",
              "\n",
              "      <script>\n",
              "        const buttonEl =\n",
              "          document.querySelector('#df-b5ae200b-9153-4f99-90cf-c2aa231bb0bc button.colab-df-convert');\n",
              "        buttonEl.style.display =\n",
              "          google.colab.kernel.accessAllowed ? 'block' : 'none';\n",
              "\n",
              "        async function convertToInteractive(key) {\n",
              "          const element = document.querySelector('#df-b5ae200b-9153-4f99-90cf-c2aa231bb0bc');\n",
              "          const dataTable =\n",
              "            await google.colab.kernel.invokeFunction('convertToInteractive',\n",
              "                                                     [key], {});\n",
              "          if (!dataTable) return;\n",
              "\n",
              "          const docLinkHtml = 'Like what you see? Visit the ' +\n",
              "            '<a target=\"_blank\" href=https://colab.research.google.com/notebooks/data_table.ipynb>data table notebook</a>'\n",
              "            + ' to learn more about interactive tables.';\n",
              "          element.innerHTML = '';\n",
              "          dataTable['output_type'] = 'display_data';\n",
              "          await google.colab.output.renderOutput(dataTable, element);\n",
              "          const docLink = document.createElement('div');\n",
              "          docLink.innerHTML = docLinkHtml;\n",
              "          element.appendChild(docLink);\n",
              "        }\n",
              "      </script>\n",
              "    </div>\n",
              "  </div>\n",
              "  "
            ]
          },
          "metadata": {},
          "execution_count": 504
        }
      ]
    },
    {
      "cell_type": "markdown",
      "source": [
        "# New section"
      ],
      "metadata": {
        "id": "s5HFnSybMFJX"
      }
    },
    {
      "cell_type": "code",
      "source": [
        "df1.shape"
      ],
      "metadata": {
        "colab": {
          "base_uri": "https://localhost:8080/"
        },
        "id": "5T_FXoHi2gAw",
        "outputId": "52f58fc2-faeb-479f-dbbf-378d625d4459"
      },
      "execution_count": null,
      "outputs": [
        {
          "output_type": "execute_result",
          "data": {
            "text/plain": [
              "(23139, 25)"
            ]
          },
          "metadata": {},
          "execution_count": 505
        }
      ]
    },
    {
      "cell_type": "code",
      "source": [
        "df1.dtypes"
      ],
      "metadata": {
        "colab": {
          "base_uri": "https://localhost:8080/"
        },
        "id": "ZjgdCptF2qap",
        "outputId": "f076983b-cfbc-4e2e-d67d-52a63e94d714"
      },
      "execution_count": null,
      "outputs": [
        {
          "output_type": "execute_result",
          "data": {
            "text/plain": [
              "Claim No                 object\n",
              "Occurrence No             int64\n",
              "Claim Financial Year      int64\n",
              "Agency NN                 int64\n",
              "Incident Date            object\n",
              "Finalised Date           object\n",
              "Total Paid               object\n",
              "Paid Days Lost           object\n",
              "Service Start Date       object\n",
              "Service End Date         object\n",
              "Injury Agency Group      object\n",
              "Bodily Location Group    object\n",
              "Mechanism Group          object\n",
              "Nature Group             object\n",
              "Bodily Location          object\n",
              "Mechanism                object\n",
              "Nature                   object\n",
              "Major                    object\n",
              "Occupation               object\n",
              "Gender                   object\n",
              "Date of Birth            object\n",
              "Days to RTW               int64\n",
              "RTW Category             object\n",
              "Age at Accident Date      int64\n",
              "Settled                  object\n",
              "dtype: object"
            ]
          },
          "metadata": {},
          "execution_count": 506
        }
      ]
    },
    {
      "cell_type": "code",
      "source": [
        "df1.isnull().sum()"
      ],
      "metadata": {
        "colab": {
          "base_uri": "https://localhost:8080/"
        },
        "id": "cz0B-nlR16lP",
        "outputId": "58e8acd0-03a8-4efa-b81c-7023df95d64a"
      },
      "execution_count": null,
      "outputs": [
        {
          "output_type": "execute_result",
          "data": {
            "text/plain": [
              "Claim No                   0\n",
              "Occurrence No              0\n",
              "Claim Financial Year       0\n",
              "Agency NN                  0\n",
              "Incident Date              0\n",
              "Finalised Date             0\n",
              "Total Paid                 0\n",
              "Paid Days Lost             0\n",
              "Service Start Date       475\n",
              "Service End Date         475\n",
              "Injury Agency Group        0\n",
              "Bodily Location Group      0\n",
              "Mechanism Group            0\n",
              "Nature Group               0\n",
              "Bodily Location            0\n",
              "Mechanism                  0\n",
              "Nature                     0\n",
              "Major                      0\n",
              "Occupation                 0\n",
              "Gender                     0\n",
              "Date of Birth              1\n",
              "Days to RTW                0\n",
              "RTW Category               0\n",
              "Age at Accident Date       0\n",
              "Settled                    0\n",
              "dtype: int64"
            ]
          },
          "metadata": {},
          "execution_count": 507
        }
      ]
    },
    {
      "cell_type": "code",
      "source": [
        "df2=df1.drop(['Claim No','Claim Financial Year'],axis=1)"
      ],
      "metadata": {
        "id": "5NEL2-2s2eLf"
      },
      "execution_count": null,
      "outputs": []
    },
    {
      "cell_type": "code",
      "source": [
        "df2['Total Paid']=df2['Total Paid'].str.replace(\"$\",\"\")\n",
        "df2['Total Paid']=df2['Total Paid'].str.replace(\",\",\"\")\n"
      ],
      "metadata": {
        "id": "WqtaisxnURbJ",
        "outputId": "9ee6ce6b-99e3-481f-eef4-ca5aa4d0586e",
        "colab": {
          "base_uri": "https://localhost:8080/"
        }
      },
      "execution_count": null,
      "outputs": [
        {
          "output_type": "stream",
          "name": "stderr",
          "text": [
            "<ipython-input-509-8db09d7a9cb5>:1: FutureWarning: The default value of regex will change from True to False in a future version. In addition, single character regular expressions will *not* be treated as literal strings when regex=True.\n",
            "  df2['Total Paid']=df2['Total Paid'].str.replace(\"$\",\"\")\n"
          ]
        }
      ]
    },
    {
      "cell_type": "code",
      "source": [
        "df2['Total Paid'] = df2['Total Paid'].apply(lambda x : float(x))"
      ],
      "metadata": {
        "id": "k9sAYicqUvnO"
      },
      "execution_count": null,
      "outputs": []
    },
    {
      "cell_type": "code",
      "source": [
        "df2['Paid Days Lost'].value_counts()"
      ],
      "metadata": {
        "id": "EtOpBKM-VCyd",
        "outputId": "dbc98631-dcfc-432b-b043-3bcf45e9a7dd",
        "colab": {
          "base_uri": "https://localhost:8080/"
        }
      },
      "execution_count": null,
      "outputs": [
        {
          "output_type": "execute_result",
          "data": {
            "text/plain": [
              "1         1140\n",
              "2         1101\n",
              "3          773\n",
              "4          573\n",
              "5          492\n",
              "          ... \n",
              "497.6        1\n",
              "53.06        1\n",
              "349.66       1\n",
              "79.33        1\n",
              "124.3        1\n",
              "Name: Paid Days Lost, Length: 7392, dtype: int64"
            ]
          },
          "metadata": {},
          "execution_count": 511
        }
      ]
    },
    {
      "cell_type": "code",
      "source": [
        "df2['Paid Days Lost']=df2['Paid Days Lost'].str.replace(\",\",\"\")\n",
        "df2['Paid Days Lost'] = df2['Paid Days Lost'].apply(lambda x : float(x))"
      ],
      "metadata": {
        "id": "YBud0wDqU8L9"
      },
      "execution_count": null,
      "outputs": []
    },
    {
      "cell_type": "code",
      "source": [
        "df2['Injury Agency Group'].value_counts()"
      ],
      "metadata": {
        "id": "nd3YrIvNU0RK",
        "outputId": "3d1935f3-b21d-4114-e8fa-d0878e007328",
        "colab": {
          "base_uri": "https://localhost:8080/"
        }
      },
      "execution_count": null,
      "outputs": [
        {
          "output_type": "execute_result",
          "data": {
            "text/plain": [
              "Animal, Human and Biological Agencies              7098\n",
              "Non-powered Handtools, Appliances and Equipment    5988\n",
              "Environmental Agencies                             3789\n",
              "Other and Unspecified Agencies                     2405\n",
              "Mobile Plant and Transport                         1174\n",
              "Materials and Substances                           1143\n",
              "Powered Equipment, Tools and Appliances            1034\n",
              "Machinery and (Mainly) Fixed Plant                  321\n",
              "Chemicals and Chemical Products                     187\n",
              "Name: Injury Agency Group, dtype: int64"
            ]
          },
          "metadata": {},
          "execution_count": 513
        }
      ]
    },
    {
      "cell_type": "code",
      "source": [
        "df2['Injury Agency Group']=df2['Injury Agency Group'].apply(lambda x : 'Other' if x=='Powered Equipment, Tools and Appliances' or x=='Machinery and (Mainly) Fixed Plant' or x=='Chemicals and Chemical Products' else x)"
      ],
      "metadata": {
        "id": "ZOurrh8NVspq"
      },
      "execution_count": null,
      "outputs": []
    },
    {
      "cell_type": "code",
      "source": [
        "df2['Injury Agency Group'].value_counts()"
      ],
      "metadata": {
        "id": "kkMY6BwvWGNt",
        "outputId": "4ded3143-f67f-41b2-aa4f-8744765fadf3",
        "colab": {
          "base_uri": "https://localhost:8080/"
        }
      },
      "execution_count": null,
      "outputs": [
        {
          "output_type": "execute_result",
          "data": {
            "text/plain": [
              "Animal, Human and Biological Agencies              7098\n",
              "Non-powered Handtools, Appliances and Equipment    5988\n",
              "Environmental Agencies                             3789\n",
              "Other and Unspecified Agencies                     2405\n",
              "Other                                              1542\n",
              "Mobile Plant and Transport                         1174\n",
              "Materials and Substances                           1143\n",
              "Name: Injury Agency Group, dtype: int64"
            ]
          },
          "metadata": {},
          "execution_count": 515
        }
      ]
    },
    {
      "cell_type": "code",
      "source": [
        "df2['Bodily Location Group'].value_counts()"
      ],
      "metadata": {
        "id": "mYDdi851ZH6V",
        "outputId": "b246cb2c-7a80-47ce-e5b3-b9ef3dffccd9",
        "colab": {
          "base_uri": "https://localhost:8080/"
        }
      },
      "execution_count": null,
      "outputs": [
        {
          "output_type": "execute_result",
          "data": {
            "text/plain": [
              "Upper Limbs                                    6216\n",
              "Lower Limbs                                    5255\n",
              "Trunk (inc. Back)                              4450\n",
              "Multiple Locations                             2799\n",
              "Non-physical Locations (Psychological)         2075\n",
              "Head                                           1637\n",
              "Neck                                            574\n",
              "Systemic Locations (eg. Nervous, Digestive)     107\n",
              "Unspecified Locations                            26\n",
              "Name: Bodily Location Group, dtype: int64"
            ]
          },
          "metadata": {},
          "execution_count": 516
        }
      ]
    },
    {
      "cell_type": "code",
      "source": [
        "df2['Bodily Location Group']=df2['Bodily Location Group'].apply(lambda x : 'Other' if x=='Unspecified Locations' or x=='Systemic Locations (eg. Nervous, Digestive)' or x=='Neck' or x=='Non-physical Locations (Psychological)'\n",
        "or x=='Head'\n",
        " else x)"
      ],
      "metadata": {
        "id": "GxY9NNMRZZG3"
      },
      "execution_count": null,
      "outputs": []
    },
    {
      "cell_type": "code",
      "source": [
        "df2['Bodily Location Group'].value_counts()"
      ],
      "metadata": {
        "id": "GgTEO3FzZn7C",
        "outputId": "eff89019-c36d-4222-d169-a2d3e7d6eedf",
        "colab": {
          "base_uri": "https://localhost:8080/"
        }
      },
      "execution_count": null,
      "outputs": [
        {
          "output_type": "execute_result",
          "data": {
            "text/plain": [
              "Upper Limbs           6216\n",
              "Lower Limbs           5255\n",
              "Trunk (inc. Back)     4450\n",
              "Other                 4419\n",
              "Multiple Locations    2799\n",
              "Name: Bodily Location Group, dtype: int64"
            ]
          },
          "metadata": {},
          "execution_count": 518
        }
      ]
    },
    {
      "cell_type": "code",
      "source": [
        "df2['Mechanism Group'].value_counts()"
      ],
      "metadata": {
        "id": "QeF6z97rZ8aU",
        "outputId": "8e1d8855-712f-4857-cb3d-2fd661fe7208",
        "colab": {
          "base_uri": "https://localhost:8080/"
        }
      },
      "execution_count": null,
      "outputs": [
        {
          "output_type": "execute_result",
          "data": {
            "text/plain": [
              "Body Stressing                                8358\n",
              "Falls, Slips and Trips of a Person            5637\n",
              "Being Hit by Moving Objects                   5016\n",
              "Mental Stress                                 1909\n",
              "Hitting Objects with a Part of the Body       1118\n",
              "Other and Unspecified Mechanisms of Injury     328\n",
              "Chemicals and Other Substances                 295\n",
              "Heat, Radiation and Electricity                246\n",
              "Biological Factors                             205\n",
              "Sound and Pressure                              27\n",
              "Name: Mechanism Group, dtype: int64"
            ]
          },
          "metadata": {},
          "execution_count": 519
        }
      ]
    },
    {
      "cell_type": "code",
      "source": [
        "df2['Mechanism Group']=df2['Mechanism Group'].apply(lambda x : 'Other' if x=='Sound and Pressure' or x=='Biological Factors' or x=='Heat, Radiation and Electricity' or x=='Chemicals and Other Substances'\n",
        "or x=='Other and Unspecified Mechanisms of Injury' or x=='Hitting Objects with a Part of the Body' or x=='Mental Stress'\n",
        " else x)"
      ],
      "metadata": {
        "id": "4Feu6u8maIp2"
      },
      "execution_count": null,
      "outputs": []
    },
    {
      "cell_type": "code",
      "source": [
        "df2['Mechanism Group'].value_counts()"
      ],
      "metadata": {
        "id": "ArGF49kUaWyj",
        "outputId": "3733dc95-afe1-43b9-b37d-438146742ed6",
        "colab": {
          "base_uri": "https://localhost:8080/"
        }
      },
      "execution_count": null,
      "outputs": [
        {
          "output_type": "execute_result",
          "data": {
            "text/plain": [
              "Body Stressing                        8358\n",
              "Falls, Slips and Trips of a Person    5637\n",
              "Being Hit by Moving Objects           5016\n",
              "Other                                 4128\n",
              "Name: Mechanism Group, dtype: int64"
            ]
          },
          "metadata": {},
          "execution_count": 521
        }
      ]
    },
    {
      "cell_type": "code",
      "source": [
        "df2['Nature Group'].value_counts()\n"
      ],
      "metadata": {
        "id": "K3Nmh61NbJy4",
        "outputId": "66908e86-265f-4ce9-d937-ef1f4a8bfb7d",
        "colab": {
          "base_uri": "https://localhost:8080/"
        }
      },
      "execution_count": null,
      "outputs": [
        {
          "output_type": "execute_result",
          "data": {
            "text/plain": [
              "Sprains, Strains and Dislocations               10132\n",
              "Musculoskeletal System and Connective Tissue     3525\n",
              "Contusion and Crushing                           2476\n",
              "Mental Disorders                                 2197\n",
              "Fractures                                        1551\n",
              "All Other Diseases                               1126\n",
              "Open Wound                                        966\n",
              "Superficial Injury                                796\n",
              "Burns                                             232\n",
              "Foreign body, Ear, Eye, Nose, Respiratory          88\n",
              "Multiple Injuries                                  50\n",
              "Name: Nature Group, dtype: int64"
            ]
          },
          "metadata": {},
          "execution_count": 522
        }
      ]
    },
    {
      "cell_type": "code",
      "source": [
        "df2['Nature Group']=df2['Nature Group'].apply(lambda x : 'Other'  if  x!='Sprains, Strains and Dislocations' else x)"
      ],
      "metadata": {
        "id": "ebfQrmr1b1gt"
      },
      "execution_count": null,
      "outputs": []
    },
    {
      "cell_type": "code",
      "source": [
        "df2['Nature Group'].value_counts()"
      ],
      "metadata": {
        "id": "7a0sw6zxk8jB",
        "outputId": "853f7675-104f-46fe-ea61-cfa76dcd8170",
        "colab": {
          "base_uri": "https://localhost:8080/"
        }
      },
      "execution_count": null,
      "outputs": [
        {
          "output_type": "execute_result",
          "data": {
            "text/plain": [
              "Other                                13007\n",
              "Sprains, Strains and Dislocations    10132\n",
              "Name: Nature Group, dtype: int64"
            ]
          },
          "metadata": {},
          "execution_count": 524
        }
      ]
    },
    {
      "cell_type": "code",
      "source": [
        "df2['Major'].value_counts()\n",
        "df2['Major']=df2['Major'].apply(lambda x : 'Professionals' if x=='Professionals' or x=='Associate Professionals' else x )\n",
        "df2['Major']=df2['Major'].apply(lambda x : x if x=='Professionals' or x=='Intermediate Clerical, Sales and Service Workers' else 'Others' )"
      ],
      "metadata": {
        "id": "YXS5vrZndPRe"
      },
      "execution_count": null,
      "outputs": []
    },
    {
      "cell_type": "code",
      "source": [
        "df2['Major'].value_counts()"
      ],
      "metadata": {
        "id": "Z5BNSVLVcsqq",
        "outputId": "4a095402-76fd-4360-c862-cd14075f9e95",
        "colab": {
          "base_uri": "https://localhost:8080/"
        }
      },
      "execution_count": null,
      "outputs": [
        {
          "output_type": "execute_result",
          "data": {
            "text/plain": [
              "Professionals                                       9607\n",
              "Intermediate Clerical, Sales and Service Workers    8159\n",
              "Others                                              5373\n",
              "Name: Major, dtype: int64"
            ]
          },
          "metadata": {},
          "execution_count": 526
        }
      ]
    },
    {
      "cell_type": "code",
      "source": [
        "df2['Gender'].value_counts()\n",
        "df2['Gender'].str.strip()\n",
        "df3 = df2[df2.Gender != 'Unknown']"
      ],
      "metadata": {
        "id": "ZtTBeaIXfbfk"
      },
      "execution_count": null,
      "outputs": []
    },
    {
      "cell_type": "code",
      "source": [
        "df3.columns"
      ],
      "metadata": {
        "id": "rFbRbMdohJ8h",
        "outputId": "68c91e0a-a13d-42e5-d4f7-34f3d5c4b113",
        "colab": {
          "base_uri": "https://localhost:8080/"
        }
      },
      "execution_count": null,
      "outputs": [
        {
          "output_type": "execute_result",
          "data": {
            "text/plain": [
              "Index(['Occurrence No', 'Agency NN', 'Incident Date', 'Finalised Date',\n",
              "       'Total Paid', 'Paid Days Lost', 'Service Start Date',\n",
              "       'Service End Date', 'Injury Agency Group', 'Bodily Location Group',\n",
              "       'Mechanism Group', 'Nature Group', 'Bodily Location', 'Mechanism',\n",
              "       'Nature', 'Major', 'Occupation', 'Gender', 'Date of Birth',\n",
              "       'Days to RTW', 'RTW Category', 'Age at Accident Date', 'Settled'],\n",
              "      dtype='object')"
            ]
          },
          "metadata": {},
          "execution_count": 528
        }
      ]
    },
    {
      "cell_type": "code",
      "source": [
        "df3['Gender'].value_counts()"
      ],
      "metadata": {
        "id": "OUwcOI8YkXx8",
        "outputId": "82cc2e39-c9d8-472a-a10c-d975dcba68c9",
        "colab": {
          "base_uri": "https://localhost:8080/"
        }
      },
      "execution_count": null,
      "outputs": [
        {
          "output_type": "execute_result",
          "data": {
            "text/plain": [
              "Female      14492\n",
              "Male         8646\n",
              "Unknown         1\n",
              "Name: Gender, dtype: int64"
            ]
          },
          "metadata": {},
          "execution_count": 529
        }
      ]
    },
    {
      "cell_type": "code",
      "source": [
        "\n",
        "columns=['Injury Agency Group', 'Bodily Location Group','Mechanism Group','Nature Group','Major','Gender']\n",
        "for i in columns:\n",
        "  dummies = pd.get_dummies(i +'_'+ df3[i])\n",
        "  df3=pd.concat([df3,dummies],axis=1)"
      ],
      "metadata": {
        "id": "YukuIs4rf9PX"
      },
      "execution_count": null,
      "outputs": []
    },
    {
      "cell_type": "code",
      "source": [],
      "metadata": {
        "id": "cNJ74iuEsRYi"
      },
      "execution_count": null,
      "outputs": []
    },
    {
      "cell_type": "code",
      "source": [
        "df3.columns"
      ],
      "metadata": {
        "id": "WZtWOPrFnCu2",
        "outputId": "82a42163-38bf-414f-9bdc-2323f7c27513",
        "colab": {
          "base_uri": "https://localhost:8080/"
        }
      },
      "execution_count": null,
      "outputs": [
        {
          "output_type": "execute_result",
          "data": {
            "text/plain": [
              "Index(['Occurrence No', 'Agency NN', 'Incident Date', 'Finalised Date',\n",
              "       'Total Paid', 'Paid Days Lost', 'Service Start Date',\n",
              "       'Service End Date', 'Injury Agency Group', 'Bodily Location Group',\n",
              "       'Mechanism Group', 'Nature Group', 'Bodily Location', 'Mechanism',\n",
              "       'Nature', 'Major', 'Occupation', 'Gender', 'Date of Birth',\n",
              "       'Days to RTW', 'RTW Category', 'Age at Accident Date', 'Settled',\n",
              "       'Injury Agency Group_Animal, Human and Biological Agencies',\n",
              "       'Injury Agency Group_Environmental Agencies',\n",
              "       'Injury Agency Group_Materials and Substances',\n",
              "       'Injury Agency Group_Mobile Plant and Transport',\n",
              "       'Injury Agency Group_Non-powered Handtools, Appliances and Equipment',\n",
              "       'Injury Agency Group_Other',\n",
              "       'Injury Agency Group_Other and Unspecified Agencies',\n",
              "       'Bodily Location Group_Lower Limbs',\n",
              "       'Bodily Location Group_Multiple Locations',\n",
              "       'Bodily Location Group_Other',\n",
              "       'Bodily Location Group_Trunk (inc. Back)',\n",
              "       'Bodily Location Group_Upper Limbs',\n",
              "       'Mechanism Group_Being Hit by Moving Objects',\n",
              "       'Mechanism Group_Body Stressing',\n",
              "       'Mechanism Group_Falls, Slips and Trips of a Person',\n",
              "       'Mechanism Group_Other', 'Nature Group_Other',\n",
              "       'Nature Group_Sprains, Strains and Dislocations',\n",
              "       'Major_Intermediate Clerical, Sales and Service Workers',\n",
              "       'Major_Others', 'Major_Professionals', 'Gender_Female  ',\n",
              "       'Gender_Male    ', 'Gender_Unknown '],\n",
              "      dtype='object')"
            ]
          },
          "metadata": {},
          "execution_count": 531
        }
      ]
    },
    {
      "cell_type": "code",
      "source": [
        "df3.drop(['Injury Agency Group', 'Bodily Location Group','Mechanism Group','Nature Group','Major','Gender'],axis=1)"
      ],
      "metadata": {
        "id": "fCtm0ftilX_9",
        "outputId": "ea5e5104-b1d4-41b7-fa3e-d65e55816f92",
        "colab": {
          "base_uri": "https://localhost:8080/",
          "height": 991
        }
      },
      "execution_count": null,
      "outputs": [
        {
          "output_type": "execute_result",
          "data": {
            "text/plain": [
              "       Occurrence No  Agency NN Incident Date Finalised Date  Total Paid  \\\n",
              "0                  1       7069    01/11/2012     24/01/2013     8580.00   \n",
              "1                  1      63246    29/04/2021     10/06/2021      573.66   \n",
              "2                  1    2043954    16/11/2015     04/01/2016      796.97   \n",
              "3                  1      63246    04/09/2014     18/02/2015     5570.19   \n",
              "4                  2      63246    08/05/2014     29/01/2016    35406.63   \n",
              "...              ...        ...           ...            ...         ...   \n",
              "23134              1      63246    22/03/2022     26/06/2022     1470.12   \n",
              "23135              1      63246    06/08/2015     09/11/2015     4730.55   \n",
              "23136              1    2623845    27/07/2018     14/09/2018      943.10   \n",
              "23137              1    2253554    21/03/2013     28/02/2014     2062.57   \n",
              "23138              1    2623920    04/11/2021     28/11/2022   103955.89   \n",
              "\n",
              "       Paid Days Lost Service Start Date Service End Date  \\\n",
              "0               26.01         02/11/2012       18/12/2012   \n",
              "1                2.00         29/04/2021       30/04/2021   \n",
              "2                2.02         16/11/2015       17/11/2015   \n",
              "3               26.00         05/09/2014       10/10/2014   \n",
              "4               75.09         03/10/2014       12/01/2015   \n",
              "...               ...                ...              ...   \n",
              "23134            6.00         23/03/2022       30/03/2022   \n",
              "23135            5.00         10/08/2015       16/08/2015   \n",
              "23136            2.00         30/07/2018       02/08/2018   \n",
              "23137            3.00         22/03/2013       24/03/2013   \n",
              "23138          124.30         21/11/2021       15/09/2022   \n",
              "\n",
              "                    Bodily Location  \\\n",
              "0                           Stomach   \n",
              "1      Head - unspecified locations   \n",
              "2                              Face   \n",
              "3                              Knee   \n",
              "4                          Shoulder   \n",
              "...                             ...   \n",
              "23134     Back - other and multiple   \n",
              "23135                    Lower back   \n",
              "23136                        Breast   \n",
              "23137                         Ankle   \n",
              "23138                          Ribs   \n",
              "\n",
              "                                           Mechanism  ...  \\\n",
              "0      Muscular stress-lift, carry, put down objects  ...   \n",
              "1                            Falls on the same level  ...   \n",
              "2             Being assaulted by a person or persons  ...   \n",
              "3            Muscular stress with no objects handled  ...   \n",
              "4                            Falls on the same level  ...   \n",
              "...                                              ...  ...   \n",
              "23134          Muscular stress while handling object  ...   \n",
              "23135          Muscular stress while handling object  ...   \n",
              "23136         Being assaulted by a person or persons  ...   \n",
              "23137                        Falls on the same level  ...   \n",
              "23138             Being hit by a person accidentally  ...   \n",
              "\n",
              "      Mechanism Group_Falls, Slips and Trips of a Person  \\\n",
              "0                                                      0   \n",
              "1                                                      1   \n",
              "2                                                      0   \n",
              "3                                                      0   \n",
              "4                                                      1   \n",
              "...                                                  ...   \n",
              "23134                                                  0   \n",
              "23135                                                  0   \n",
              "23136                                                  0   \n",
              "23137                                                  1   \n",
              "23138                                                  0   \n",
              "\n",
              "      Mechanism Group_Other Nature Group_Other  \\\n",
              "0                         0                  0   \n",
              "1                         0                  1   \n",
              "2                         0                  1   \n",
              "3                         0                  0   \n",
              "4                         0                  0   \n",
              "...                     ...                ...   \n",
              "23134                     0                  0   \n",
              "23135                     0                  0   \n",
              "23136                     0                  1   \n",
              "23137                     0                  0   \n",
              "23138                     0                  1   \n",
              "\n",
              "       Nature Group_Sprains, Strains and Dislocations  \\\n",
              "0                                                   1   \n",
              "1                                                   0   \n",
              "2                                                   0   \n",
              "3                                                   1   \n",
              "4                                                   1   \n",
              "...                                               ...   \n",
              "23134                                               1   \n",
              "23135                                               1   \n",
              "23136                                               0   \n",
              "23137                                               1   \n",
              "23138                                               0   \n",
              "\n",
              "      Major_Intermediate Clerical, Sales and Service Workers  Major_Others  \\\n",
              "0                                                      1                 0   \n",
              "1                                                      1                 0   \n",
              "2                                                      0                 0   \n",
              "3                                                      1                 0   \n",
              "4                                                      0                 1   \n",
              "...                                                  ...               ...   \n",
              "23134                                                  1                 0   \n",
              "23135                                                  0                 0   \n",
              "23136                                                  0                 0   \n",
              "23137                                                  1                 0   \n",
              "23138                                                  1                 0   \n",
              "\n",
              "      Major_Professionals  Gender_Female    Gender_Male      Gender_Unknown   \n",
              "0                       0                0                1                0  \n",
              "1                       0                1                0                0  \n",
              "2                       1                0                1                0  \n",
              "3                       0                0                1                0  \n",
              "4                       0                0                1                0  \n",
              "...                   ...              ...              ...              ...  \n",
              "23134                   0                1                0                0  \n",
              "23135                   1                1                0                0  \n",
              "23136                   1                1                0                0  \n",
              "23137                   0                1                0                0  \n",
              "23138                   0                1                0                0  \n",
              "\n",
              "[23139 rows x 41 columns]"
            ],
            "text/html": [
              "\n",
              "  <div id=\"df-190cb322-f4a6-4b62-8340-9d7594cf6a56\">\n",
              "    <div class=\"colab-df-container\">\n",
              "      <div>\n",
              "<style scoped>\n",
              "    .dataframe tbody tr th:only-of-type {\n",
              "        vertical-align: middle;\n",
              "    }\n",
              "\n",
              "    .dataframe tbody tr th {\n",
              "        vertical-align: top;\n",
              "    }\n",
              "\n",
              "    .dataframe thead th {\n",
              "        text-align: right;\n",
              "    }\n",
              "</style>\n",
              "<table border=\"1\" class=\"dataframe\">\n",
              "  <thead>\n",
              "    <tr style=\"text-align: right;\">\n",
              "      <th></th>\n",
              "      <th>Occurrence No</th>\n",
              "      <th>Agency NN</th>\n",
              "      <th>Incident Date</th>\n",
              "      <th>Finalised Date</th>\n",
              "      <th>Total Paid</th>\n",
              "      <th>Paid Days Lost</th>\n",
              "      <th>Service Start Date</th>\n",
              "      <th>Service End Date</th>\n",
              "      <th>Bodily Location</th>\n",
              "      <th>Mechanism</th>\n",
              "      <th>...</th>\n",
              "      <th>Mechanism Group_Falls, Slips and Trips of a Person</th>\n",
              "      <th>Mechanism Group_Other</th>\n",
              "      <th>Nature Group_Other</th>\n",
              "      <th>Nature Group_Sprains, Strains and Dislocations</th>\n",
              "      <th>Major_Intermediate Clerical, Sales and Service Workers</th>\n",
              "      <th>Major_Others</th>\n",
              "      <th>Major_Professionals</th>\n",
              "      <th>Gender_Female</th>\n",
              "      <th>Gender_Male</th>\n",
              "      <th>Gender_Unknown</th>\n",
              "    </tr>\n",
              "  </thead>\n",
              "  <tbody>\n",
              "    <tr>\n",
              "      <th>0</th>\n",
              "      <td>1</td>\n",
              "      <td>7069</td>\n",
              "      <td>01/11/2012</td>\n",
              "      <td>24/01/2013</td>\n",
              "      <td>8580.00</td>\n",
              "      <td>26.01</td>\n",
              "      <td>02/11/2012</td>\n",
              "      <td>18/12/2012</td>\n",
              "      <td>Stomach</td>\n",
              "      <td>Muscular stress-lift, carry, put down objects</td>\n",
              "      <td>...</td>\n",
              "      <td>0</td>\n",
              "      <td>0</td>\n",
              "      <td>0</td>\n",
              "      <td>1</td>\n",
              "      <td>1</td>\n",
              "      <td>0</td>\n",
              "      <td>0</td>\n",
              "      <td>0</td>\n",
              "      <td>1</td>\n",
              "      <td>0</td>\n",
              "    </tr>\n",
              "    <tr>\n",
              "      <th>1</th>\n",
              "      <td>1</td>\n",
              "      <td>63246</td>\n",
              "      <td>29/04/2021</td>\n",
              "      <td>10/06/2021</td>\n",
              "      <td>573.66</td>\n",
              "      <td>2.00</td>\n",
              "      <td>29/04/2021</td>\n",
              "      <td>30/04/2021</td>\n",
              "      <td>Head - unspecified locations</td>\n",
              "      <td>Falls on the same level</td>\n",
              "      <td>...</td>\n",
              "      <td>1</td>\n",
              "      <td>0</td>\n",
              "      <td>1</td>\n",
              "      <td>0</td>\n",
              "      <td>1</td>\n",
              "      <td>0</td>\n",
              "      <td>0</td>\n",
              "      <td>1</td>\n",
              "      <td>0</td>\n",
              "      <td>0</td>\n",
              "    </tr>\n",
              "    <tr>\n",
              "      <th>2</th>\n",
              "      <td>1</td>\n",
              "      <td>2043954</td>\n",
              "      <td>16/11/2015</td>\n",
              "      <td>04/01/2016</td>\n",
              "      <td>796.97</td>\n",
              "      <td>2.02</td>\n",
              "      <td>16/11/2015</td>\n",
              "      <td>17/11/2015</td>\n",
              "      <td>Face</td>\n",
              "      <td>Being assaulted by a person or persons</td>\n",
              "      <td>...</td>\n",
              "      <td>0</td>\n",
              "      <td>0</td>\n",
              "      <td>1</td>\n",
              "      <td>0</td>\n",
              "      <td>0</td>\n",
              "      <td>0</td>\n",
              "      <td>1</td>\n",
              "      <td>0</td>\n",
              "      <td>1</td>\n",
              "      <td>0</td>\n",
              "    </tr>\n",
              "    <tr>\n",
              "      <th>3</th>\n",
              "      <td>1</td>\n",
              "      <td>63246</td>\n",
              "      <td>04/09/2014</td>\n",
              "      <td>18/02/2015</td>\n",
              "      <td>5570.19</td>\n",
              "      <td>26.00</td>\n",
              "      <td>05/09/2014</td>\n",
              "      <td>10/10/2014</td>\n",
              "      <td>Knee</td>\n",
              "      <td>Muscular stress with no objects handled</td>\n",
              "      <td>...</td>\n",
              "      <td>0</td>\n",
              "      <td>0</td>\n",
              "      <td>0</td>\n",
              "      <td>1</td>\n",
              "      <td>1</td>\n",
              "      <td>0</td>\n",
              "      <td>0</td>\n",
              "      <td>0</td>\n",
              "      <td>1</td>\n",
              "      <td>0</td>\n",
              "    </tr>\n",
              "    <tr>\n",
              "      <th>4</th>\n",
              "      <td>2</td>\n",
              "      <td>63246</td>\n",
              "      <td>08/05/2014</td>\n",
              "      <td>29/01/2016</td>\n",
              "      <td>35406.63</td>\n",
              "      <td>75.09</td>\n",
              "      <td>03/10/2014</td>\n",
              "      <td>12/01/2015</td>\n",
              "      <td>Shoulder</td>\n",
              "      <td>Falls on the same level</td>\n",
              "      <td>...</td>\n",
              "      <td>1</td>\n",
              "      <td>0</td>\n",
              "      <td>0</td>\n",
              "      <td>1</td>\n",
              "      <td>0</td>\n",
              "      <td>1</td>\n",
              "      <td>0</td>\n",
              "      <td>0</td>\n",
              "      <td>1</td>\n",
              "      <td>0</td>\n",
              "    </tr>\n",
              "    <tr>\n",
              "      <th>...</th>\n",
              "      <td>...</td>\n",
              "      <td>...</td>\n",
              "      <td>...</td>\n",
              "      <td>...</td>\n",
              "      <td>...</td>\n",
              "      <td>...</td>\n",
              "      <td>...</td>\n",
              "      <td>...</td>\n",
              "      <td>...</td>\n",
              "      <td>...</td>\n",
              "      <td>...</td>\n",
              "      <td>...</td>\n",
              "      <td>...</td>\n",
              "      <td>...</td>\n",
              "      <td>...</td>\n",
              "      <td>...</td>\n",
              "      <td>...</td>\n",
              "      <td>...</td>\n",
              "      <td>...</td>\n",
              "      <td>...</td>\n",
              "      <td>...</td>\n",
              "    </tr>\n",
              "    <tr>\n",
              "      <th>23134</th>\n",
              "      <td>1</td>\n",
              "      <td>63246</td>\n",
              "      <td>22/03/2022</td>\n",
              "      <td>26/06/2022</td>\n",
              "      <td>1470.12</td>\n",
              "      <td>6.00</td>\n",
              "      <td>23/03/2022</td>\n",
              "      <td>30/03/2022</td>\n",
              "      <td>Back - other and multiple</td>\n",
              "      <td>Muscular stress while handling object</td>\n",
              "      <td>...</td>\n",
              "      <td>0</td>\n",
              "      <td>0</td>\n",
              "      <td>0</td>\n",
              "      <td>1</td>\n",
              "      <td>1</td>\n",
              "      <td>0</td>\n",
              "      <td>0</td>\n",
              "      <td>1</td>\n",
              "      <td>0</td>\n",
              "      <td>0</td>\n",
              "    </tr>\n",
              "    <tr>\n",
              "      <th>23135</th>\n",
              "      <td>1</td>\n",
              "      <td>63246</td>\n",
              "      <td>06/08/2015</td>\n",
              "      <td>09/11/2015</td>\n",
              "      <td>4730.55</td>\n",
              "      <td>5.00</td>\n",
              "      <td>10/08/2015</td>\n",
              "      <td>16/08/2015</td>\n",
              "      <td>Lower back</td>\n",
              "      <td>Muscular stress while handling object</td>\n",
              "      <td>...</td>\n",
              "      <td>0</td>\n",
              "      <td>0</td>\n",
              "      <td>0</td>\n",
              "      <td>1</td>\n",
              "      <td>0</td>\n",
              "      <td>0</td>\n",
              "      <td>1</td>\n",
              "      <td>1</td>\n",
              "      <td>0</td>\n",
              "      <td>0</td>\n",
              "    </tr>\n",
              "    <tr>\n",
              "      <th>23136</th>\n",
              "      <td>1</td>\n",
              "      <td>2623845</td>\n",
              "      <td>27/07/2018</td>\n",
              "      <td>14/09/2018</td>\n",
              "      <td>943.10</td>\n",
              "      <td>2.00</td>\n",
              "      <td>30/07/2018</td>\n",
              "      <td>02/08/2018</td>\n",
              "      <td>Breast</td>\n",
              "      <td>Being assaulted by a person or persons</td>\n",
              "      <td>...</td>\n",
              "      <td>0</td>\n",
              "      <td>0</td>\n",
              "      <td>1</td>\n",
              "      <td>0</td>\n",
              "      <td>0</td>\n",
              "      <td>0</td>\n",
              "      <td>1</td>\n",
              "      <td>1</td>\n",
              "      <td>0</td>\n",
              "      <td>0</td>\n",
              "    </tr>\n",
              "    <tr>\n",
              "      <th>23137</th>\n",
              "      <td>1</td>\n",
              "      <td>2253554</td>\n",
              "      <td>21/03/2013</td>\n",
              "      <td>28/02/2014</td>\n",
              "      <td>2062.57</td>\n",
              "      <td>3.00</td>\n",
              "      <td>22/03/2013</td>\n",
              "      <td>24/03/2013</td>\n",
              "      <td>Ankle</td>\n",
              "      <td>Falls on the same level</td>\n",
              "      <td>...</td>\n",
              "      <td>1</td>\n",
              "      <td>0</td>\n",
              "      <td>0</td>\n",
              "      <td>1</td>\n",
              "      <td>1</td>\n",
              "      <td>0</td>\n",
              "      <td>0</td>\n",
              "      <td>1</td>\n",
              "      <td>0</td>\n",
              "      <td>0</td>\n",
              "    </tr>\n",
              "    <tr>\n",
              "      <th>23138</th>\n",
              "      <td>1</td>\n",
              "      <td>2623920</td>\n",
              "      <td>04/11/2021</td>\n",
              "      <td>28/11/2022</td>\n",
              "      <td>103955.89</td>\n",
              "      <td>124.30</td>\n",
              "      <td>21/11/2021</td>\n",
              "      <td>15/09/2022</td>\n",
              "      <td>Ribs</td>\n",
              "      <td>Being hit by a person accidentally</td>\n",
              "      <td>...</td>\n",
              "      <td>0</td>\n",
              "      <td>0</td>\n",
              "      <td>1</td>\n",
              "      <td>0</td>\n",
              "      <td>1</td>\n",
              "      <td>0</td>\n",
              "      <td>0</td>\n",
              "      <td>1</td>\n",
              "      <td>0</td>\n",
              "      <td>0</td>\n",
              "    </tr>\n",
              "  </tbody>\n",
              "</table>\n",
              "<p>23139 rows × 41 columns</p>\n",
              "</div>\n",
              "      <button class=\"colab-df-convert\" onclick=\"convertToInteractive('df-190cb322-f4a6-4b62-8340-9d7594cf6a56')\"\n",
              "              title=\"Convert this dataframe to an interactive table.\"\n",
              "              style=\"display:none;\">\n",
              "        \n",
              "  <svg xmlns=\"http://www.w3.org/2000/svg\" height=\"24px\"viewBox=\"0 0 24 24\"\n",
              "       width=\"24px\">\n",
              "    <path d=\"M0 0h24v24H0V0z\" fill=\"none\"/>\n",
              "    <path d=\"M18.56 5.44l.94 2.06.94-2.06 2.06-.94-2.06-.94-.94-2.06-.94 2.06-2.06.94zm-11 1L8.5 8.5l.94-2.06 2.06-.94-2.06-.94L8.5 2.5l-.94 2.06-2.06.94zm10 10l.94 2.06.94-2.06 2.06-.94-2.06-.94-.94-2.06-.94 2.06-2.06.94z\"/><path d=\"M17.41 7.96l-1.37-1.37c-.4-.4-.92-.59-1.43-.59-.52 0-1.04.2-1.43.59L10.3 9.45l-7.72 7.72c-.78.78-.78 2.05 0 2.83L4 21.41c.39.39.9.59 1.41.59.51 0 1.02-.2 1.41-.59l7.78-7.78 2.81-2.81c.8-.78.8-2.07 0-2.86zM5.41 20L4 18.59l7.72-7.72 1.47 1.35L5.41 20z\"/>\n",
              "  </svg>\n",
              "      </button>\n",
              "      \n",
              "  <style>\n",
              "    .colab-df-container {\n",
              "      display:flex;\n",
              "      flex-wrap:wrap;\n",
              "      gap: 12px;\n",
              "    }\n",
              "\n",
              "    .colab-df-convert {\n",
              "      background-color: #E8F0FE;\n",
              "      border: none;\n",
              "      border-radius: 50%;\n",
              "      cursor: pointer;\n",
              "      display: none;\n",
              "      fill: #1967D2;\n",
              "      height: 32px;\n",
              "      padding: 0 0 0 0;\n",
              "      width: 32px;\n",
              "    }\n",
              "\n",
              "    .colab-df-convert:hover {\n",
              "      background-color: #E2EBFA;\n",
              "      box-shadow: 0px 1px 2px rgba(60, 64, 67, 0.3), 0px 1px 3px 1px rgba(60, 64, 67, 0.15);\n",
              "      fill: #174EA6;\n",
              "    }\n",
              "\n",
              "    [theme=dark] .colab-df-convert {\n",
              "      background-color: #3B4455;\n",
              "      fill: #D2E3FC;\n",
              "    }\n",
              "\n",
              "    [theme=dark] .colab-df-convert:hover {\n",
              "      background-color: #434B5C;\n",
              "      box-shadow: 0px 1px 3px 1px rgba(0, 0, 0, 0.15);\n",
              "      filter: drop-shadow(0px 1px 2px rgba(0, 0, 0, 0.3));\n",
              "      fill: #FFFFFF;\n",
              "    }\n",
              "  </style>\n",
              "\n",
              "      <script>\n",
              "        const buttonEl =\n",
              "          document.querySelector('#df-190cb322-f4a6-4b62-8340-9d7594cf6a56 button.colab-df-convert');\n",
              "        buttonEl.style.display =\n",
              "          google.colab.kernel.accessAllowed ? 'block' : 'none';\n",
              "\n",
              "        async function convertToInteractive(key) {\n",
              "          const element = document.querySelector('#df-190cb322-f4a6-4b62-8340-9d7594cf6a56');\n",
              "          const dataTable =\n",
              "            await google.colab.kernel.invokeFunction('convertToInteractive',\n",
              "                                                     [key], {});\n",
              "          if (!dataTable) return;\n",
              "\n",
              "          const docLinkHtml = 'Like what you see? Visit the ' +\n",
              "            '<a target=\"_blank\" href=https://colab.research.google.com/notebooks/data_table.ipynb>data table notebook</a>'\n",
              "            + ' to learn more about interactive tables.';\n",
              "          element.innerHTML = '';\n",
              "          dataTable['output_type'] = 'display_data';\n",
              "          await google.colab.output.renderOutput(dataTable, element);\n",
              "          const docLink = document.createElement('div');\n",
              "          docLink.innerHTML = docLinkHtml;\n",
              "          element.appendChild(docLink);\n",
              "        }\n",
              "      </script>\n",
              "    </div>\n",
              "  </div>\n",
              "  "
            ]
          },
          "metadata": {},
          "execution_count": 532
        }
      ]
    },
    {
      "cell_type": "code",
      "source": [
        "df3.columns"
      ],
      "metadata": {
        "id": "3OTMFJLzlgwu",
        "outputId": "8910b682-00b2-4af9-af76-c0c3ffebb202",
        "colab": {
          "base_uri": "https://localhost:8080/"
        }
      },
      "execution_count": null,
      "outputs": [
        {
          "output_type": "execute_result",
          "data": {
            "text/plain": [
              "Index(['Occurrence No', 'Agency NN', 'Incident Date', 'Finalised Date',\n",
              "       'Total Paid', 'Paid Days Lost', 'Service Start Date',\n",
              "       'Service End Date', 'Injury Agency Group', 'Bodily Location Group',\n",
              "       'Mechanism Group', 'Nature Group', 'Bodily Location', 'Mechanism',\n",
              "       'Nature', 'Major', 'Occupation', 'Gender', 'Date of Birth',\n",
              "       'Days to RTW', 'RTW Category', 'Age at Accident Date', 'Settled',\n",
              "       'Injury Agency Group_Animal, Human and Biological Agencies',\n",
              "       'Injury Agency Group_Environmental Agencies',\n",
              "       'Injury Agency Group_Materials and Substances',\n",
              "       'Injury Agency Group_Mobile Plant and Transport',\n",
              "       'Injury Agency Group_Non-powered Handtools, Appliances and Equipment',\n",
              "       'Injury Agency Group_Other',\n",
              "       'Injury Agency Group_Other and Unspecified Agencies',\n",
              "       'Bodily Location Group_Lower Limbs',\n",
              "       'Bodily Location Group_Multiple Locations',\n",
              "       'Bodily Location Group_Other',\n",
              "       'Bodily Location Group_Trunk (inc. Back)',\n",
              "       'Bodily Location Group_Upper Limbs',\n",
              "       'Mechanism Group_Being Hit by Moving Objects',\n",
              "       'Mechanism Group_Body Stressing',\n",
              "       'Mechanism Group_Falls, Slips and Trips of a Person',\n",
              "       'Mechanism Group_Other', 'Nature Group_Other',\n",
              "       'Nature Group_Sprains, Strains and Dislocations',\n",
              "       'Major_Intermediate Clerical, Sales and Service Workers',\n",
              "       'Major_Others', 'Major_Professionals', 'Gender_Female  ',\n",
              "       'Gender_Male    ', 'Gender_Unknown '],\n",
              "      dtype='object')"
            ]
          },
          "metadata": {},
          "execution_count": 533
        }
      ]
    },
    {
      "cell_type": "code",
      "source": [
        "df5=df3.drop (['Occurrence No',  'Incident Date', 'Finalised Date',\n",
        "       'Service Start Date', 'Service End Date', 'Injury Agency Group', 'Bodily Location Group',\n",
        "       'Mechanism Group', 'Nature Group', 'Bodily Location', 'Mechanism',\n",
        "       'Nature', 'Major', 'Occupation', 'Gender', 'Date of Birth',\n",
        "        'Settled'\n",
        "       ],axis=1)"
      ],
      "metadata": {
        "id": "5Vj0Wmt6nMxY"
      },
      "execution_count": null,
      "outputs": []
    },
    {
      "cell_type": "code",
      "source": [
        "df5.columns"
      ],
      "metadata": {
        "id": "Awh4P-ReoPxJ",
        "outputId": "f42db344-7b4c-4d7b-e90e-f09e5bdc52c6",
        "colab": {
          "base_uri": "https://localhost:8080/"
        }
      },
      "execution_count": null,
      "outputs": [
        {
          "output_type": "execute_result",
          "data": {
            "text/plain": [
              "Index(['Agency NN', 'Total Paid', 'Paid Days Lost', 'Days to RTW',\n",
              "       'RTW Category', 'Age at Accident Date',\n",
              "       'Injury Agency Group_Animal, Human and Biological Agencies',\n",
              "       'Injury Agency Group_Environmental Agencies',\n",
              "       'Injury Agency Group_Materials and Substances',\n",
              "       'Injury Agency Group_Mobile Plant and Transport',\n",
              "       'Injury Agency Group_Non-powered Handtools, Appliances and Equipment',\n",
              "       'Injury Agency Group_Other',\n",
              "       'Injury Agency Group_Other and Unspecified Agencies',\n",
              "       'Bodily Location Group_Lower Limbs',\n",
              "       'Bodily Location Group_Multiple Locations',\n",
              "       'Bodily Location Group_Other',\n",
              "       'Bodily Location Group_Trunk (inc. Back)',\n",
              "       'Bodily Location Group_Upper Limbs',\n",
              "       'Mechanism Group_Being Hit by Moving Objects',\n",
              "       'Mechanism Group_Body Stressing',\n",
              "       'Mechanism Group_Falls, Slips and Trips of a Person',\n",
              "       'Mechanism Group_Other', 'Nature Group_Other',\n",
              "       'Nature Group_Sprains, Strains and Dislocations',\n",
              "       'Major_Intermediate Clerical, Sales and Service Workers',\n",
              "       'Major_Others', 'Major_Professionals', 'Gender_Female  ',\n",
              "       'Gender_Male    ', 'Gender_Unknown '],\n",
              "      dtype='object')"
            ]
          },
          "metadata": {},
          "execution_count": 535
        }
      ]
    },
    {
      "cell_type": "code",
      "source": [
        "df5.dtypes"
      ],
      "metadata": {
        "colab": {
          "base_uri": "https://localhost:8080/"
        },
        "id": "tyvMoWI53A7x",
        "outputId": "6c8d456f-a7f7-4609-b8c1-be077986016f"
      },
      "execution_count": null,
      "outputs": [
        {
          "output_type": "execute_result",
          "data": {
            "text/plain": [
              "Agency NN                                                                int64\n",
              "Total Paid                                                             float64\n",
              "Paid Days Lost                                                         float64\n",
              "Days to RTW                                                              int64\n",
              "RTW Category                                                            object\n",
              "Age at Accident Date                                                     int64\n",
              "Injury Agency Group_Animal, Human and Biological Agencies                uint8\n",
              "Injury Agency Group_Environmental Agencies                               uint8\n",
              "Injury Agency Group_Materials and Substances                             uint8\n",
              "Injury Agency Group_Mobile Plant and Transport                           uint8\n",
              "Injury Agency Group_Non-powered Handtools, Appliances and Equipment      uint8\n",
              "Injury Agency Group_Other                                                uint8\n",
              "Injury Agency Group_Other and Unspecified Agencies                       uint8\n",
              "Bodily Location Group_Lower Limbs                                        uint8\n",
              "Bodily Location Group_Multiple Locations                                 uint8\n",
              "Bodily Location Group_Other                                              uint8\n",
              "Bodily Location Group_Trunk (inc. Back)                                  uint8\n",
              "Bodily Location Group_Upper Limbs                                        uint8\n",
              "Mechanism Group_Being Hit by Moving Objects                              uint8\n",
              "Mechanism Group_Body Stressing                                           uint8\n",
              "Mechanism Group_Falls, Slips and Trips of a Person                       uint8\n",
              "Mechanism Group_Other                                                    uint8\n",
              "Nature Group_Other                                                       uint8\n",
              "Nature Group_Sprains, Strains and Dislocations                           uint8\n",
              "Major_Intermediate Clerical, Sales and Service Workers                   uint8\n",
              "Major_Others                                                             uint8\n",
              "Major_Professionals                                                      uint8\n",
              "Gender_Female                                                            uint8\n",
              "Gender_Male                                                              uint8\n",
              "Gender_Unknown                                                           uint8\n",
              "dtype: object"
            ]
          },
          "metadata": {},
          "execution_count": 536
        }
      ]
    },
    {
      "cell_type": "code",
      "source": [
        "df5['RTW Category'].value_counts()"
      ],
      "metadata": {
        "id": "2LDvYpPrtr_j",
        "outputId": "51d893d6-cffd-4b59-9be4-e801c4c9aa9c",
        "colab": {
          "base_uri": "https://localhost:8080/"
        }
      },
      "execution_count": null,
      "outputs": [
        {
          "output_type": "execute_result",
          "data": {
            "text/plain": [
              "RTW 13 Weeks        15113\n",
              "Not RTW 26 Weeks     5535\n",
              "RTW 26 Weeks         2491\n",
              "Name: RTW Category, dtype: int64"
            ]
          },
          "metadata": {},
          "execution_count": 537
        }
      ]
    },
    {
      "cell_type": "markdown",
      "source": [
        "**Drop the columns with null values**"
      ],
      "metadata": {
        "id": "yhMc1Q-34KHr"
      }
    },
    {
      "cell_type": "code",
      "source": [
        "df5.isna().sum()"
      ],
      "metadata": {
        "colab": {
          "base_uri": "https://localhost:8080/"
        },
        "id": "ntS2kUZR4N34",
        "outputId": "cbb2ede5-7886-4675-d450-436f7bb3bc2c"
      },
      "execution_count": null,
      "outputs": [
        {
          "output_type": "execute_result",
          "data": {
            "text/plain": [
              "Agency NN                                                              0\n",
              "Total Paid                                                             0\n",
              "Paid Days Lost                                                         0\n",
              "Days to RTW                                                            0\n",
              "RTW Category                                                           0\n",
              "Age at Accident Date                                                   0\n",
              "Injury Agency Group_Animal, Human and Biological Agencies              0\n",
              "Injury Agency Group_Environmental Agencies                             0\n",
              "Injury Agency Group_Materials and Substances                           0\n",
              "Injury Agency Group_Mobile Plant and Transport                         0\n",
              "Injury Agency Group_Non-powered Handtools, Appliances and Equipment    0\n",
              "Injury Agency Group_Other                                              0\n",
              "Injury Agency Group_Other and Unspecified Agencies                     0\n",
              "Bodily Location Group_Lower Limbs                                      0\n",
              "Bodily Location Group_Multiple Locations                               0\n",
              "Bodily Location Group_Other                                            0\n",
              "Bodily Location Group_Trunk (inc. Back)                                0\n",
              "Bodily Location Group_Upper Limbs                                      0\n",
              "Mechanism Group_Being Hit by Moving Objects                            0\n",
              "Mechanism Group_Body Stressing                                         0\n",
              "Mechanism Group_Falls, Slips and Trips of a Person                     0\n",
              "Mechanism Group_Other                                                  0\n",
              "Nature Group_Other                                                     0\n",
              "Nature Group_Sprains, Strains and Dislocations                         0\n",
              "Major_Intermediate Clerical, Sales and Service Workers                 0\n",
              "Major_Others                                                           0\n",
              "Major_Professionals                                                    0\n",
              "Gender_Female                                                          0\n",
              "Gender_Male                                                            0\n",
              "Gender_Unknown                                                         0\n",
              "dtype: int64"
            ]
          },
          "metadata": {},
          "execution_count": 538
        }
      ]
    },
    {
      "cell_type": "code",
      "source": [
        "x = df5.drop(['RTW Category','Total Paid','Paid Days Lost'],axis=1)\n",
        "y = df5['RTW Category']"
      ],
      "metadata": {
        "id": "Ii81cy6t7PkS"
      },
      "execution_count": null,
      "outputs": []
    },
    {
      "cell_type": "code",
      "source": [
        "#from imblearn.over_sampling import RandomOverSampler   #category 1 an 0 are unbalanced so we can makre them equal using it\n",
        "#randomsampler = RandomOverSampler()\n",
        "\n",
        "#x,y = randomsampler.fit_resample(X,Y)"
      ],
      "metadata": {
        "id": "9GN9J0gJDzKM"
      },
      "execution_count": null,
      "outputs": []
    },
    {
      "cell_type": "code",
      "source": [
        "from sklearn.model_selection import train_test_split\n",
        "xtrain,xtest,ytrain,ytest = train_test_split(x,y)"
      ],
      "metadata": {
        "id": "vxFtmQRy7X3X"
      },
      "execution_count": null,
      "outputs": []
    },
    {
      "cell_type": "code",
      "source": [
        "from sklearn.naive_bayes import GaussianNB\n",
        "model1 = GaussianNB()"
      ],
      "metadata": {
        "id": "KOpLvng_7iMK"
      },
      "execution_count": null,
      "outputs": []
    },
    {
      "cell_type": "code",
      "source": [
        "model1.fit(xtrain,ytrain)"
      ],
      "metadata": {
        "colab": {
          "base_uri": "https://localhost:8080/"
        },
        "id": "77MUbhhl7xVt",
        "outputId": "22062137-66a8-4e0a-e2b2-e3586656093a"
      },
      "execution_count": null,
      "outputs": [
        {
          "output_type": "execute_result",
          "data": {
            "text/plain": [
              "GaussianNB()"
            ]
          },
          "metadata": {},
          "execution_count": 542
        }
      ]
    },
    {
      "cell_type": "code",
      "source": [
        "print(model1.score(xtrain,ytrain))\n",
        "print(model1.score(xtest,ytest))"
      ],
      "metadata": {
        "colab": {
          "base_uri": "https://localhost:8080/"
        },
        "id": "WJIeYgH_70lD",
        "outputId": "d5a09b5e-ad0a-4280-b95a-d65c76b1fcae"
      },
      "execution_count": null,
      "outputs": [
        {
          "output_type": "stream",
          "name": "stdout",
          "text": [
            "0.9550535899504436\n",
            "0.9502160760587727\n"
          ]
        }
      ]
    },
    {
      "cell_type": "code",
      "source": [
        "from sklearn.metrics import confusion_matrix\n",
        "\n",
        "print(confusion_matrix(ytrain, model1.predict(xtrain)))\n",
        "\n",
        "print(confusion_matrix(ytest, model1.predict(xtest)))"
      ],
      "metadata": {
        "colab": {
          "base_uri": "https://localhost:8080/"
        },
        "id": "Wnz2Mna1774r",
        "outputId": "d616243e-2d33-4bd8-fcd5-351c4a5f1211"
      },
      "execution_count": null,
      "outputs": [
        {
          "output_type": "stream",
          "name": "stdout",
          "text": [
            "[[ 3828     0   368]\n",
            " [    0 11317     0]\n",
            " [    0   412  1429]]\n",
            "[[1226    0  113]\n",
            " [   0 3796    0]\n",
            " [   0  175  475]]\n"
          ]
        }
      ]
    },
    {
      "cell_type": "code",
      "source": [
        "from sklearn.metrics import classification_report,accuracy_score"
      ],
      "metadata": {
        "id": "_yg_4Z6G8h1A"
      },
      "execution_count": null,
      "outputs": []
    },
    {
      "cell_type": "code",
      "source": [
        "print(classification_report(ytrain, model1.predict(xtrain)))\n",
        "\n",
        "print(classification_report(ytest, model1.predict(xtest)))"
      ],
      "metadata": {
        "colab": {
          "base_uri": "https://localhost:8080/"
        },
        "id": "OEQ64mnb8oSp",
        "outputId": "bb0731c1-b28d-4a39-a32c-a8e693ad8a70"
      },
      "execution_count": null,
      "outputs": [
        {
          "output_type": "stream",
          "name": "stdout",
          "text": [
            "                  precision    recall  f1-score   support\n",
            "\n",
            "Not RTW 26 Weeks       1.00      0.91      0.95      4196\n",
            "    RTW 13 Weeks       0.96      1.00      0.98     11317\n",
            "    RTW 26 Weeks       0.80      0.78      0.79      1841\n",
            "\n",
            "        accuracy                           0.96     17354\n",
            "       macro avg       0.92      0.90      0.91     17354\n",
            "    weighted avg       0.96      0.96      0.95     17354\n",
            "\n",
            "                  precision    recall  f1-score   support\n",
            "\n",
            "Not RTW 26 Weeks       1.00      0.92      0.96      1339\n",
            "    RTW 13 Weeks       0.96      1.00      0.98      3796\n",
            "    RTW 26 Weeks       0.81      0.73      0.77       650\n",
            "\n",
            "        accuracy                           0.95      5785\n",
            "       macro avg       0.92      0.88      0.90      5785\n",
            "    weighted avg       0.95      0.95      0.95      5785\n",
            "\n"
          ]
        }
      ]
    },
    {
      "cell_type": "markdown",
      "source": [
        "**Drop the rows with null Values**"
      ],
      "metadata": {
        "id": "XR3e_7uK_n16"
      }
    },
    {
      "cell_type": "code",
      "source": [
        "from imblearn.over_sampling import RandomOverSampler   #category 1 an 0 are unbalanced so we can makre them equal using it\n",
        "randomsampler = RandomOverSampler()\n",
        "\n",
        "x,y = randomsampler.fit_resample(x,y)"
      ],
      "metadata": {
        "id": "hm2Pmy2xEQcc"
      },
      "execution_count": null,
      "outputs": []
    },
    {
      "cell_type": "code",
      "source": [
        "x = df5.drop(['RTW Category','Total Paid','Paid Days Lost'],axis=1)\n",
        "y = df5['RTW Category']"
      ],
      "metadata": {
        "id": "6jvU5_Jhvylm"
      },
      "execution_count": null,
      "outputs": []
    },
    {
      "cell_type": "code",
      "source": [
        "from sklearn.model_selection import train_test_split\n",
        "xtrain,xtest,ytrain,ytest = train_test_split(x,y)"
      ],
      "metadata": {
        "id": "HnWNwlr2CpbY"
      },
      "execution_count": null,
      "outputs": []
    },
    {
      "cell_type": "code",
      "source": [
        "from sklearn.naive_bayes import GaussianNB\n",
        "model2 = GaussianNB()"
      ],
      "metadata": {
        "id": "kTLD735RB6OM"
      },
      "execution_count": null,
      "outputs": []
    },
    {
      "cell_type": "code",
      "source": [],
      "metadata": {
        "id": "rSutjC8uvuG6"
      },
      "execution_count": null,
      "outputs": []
    },
    {
      "cell_type": "code",
      "source": [
        "model2.fit(xtrain,ytrain)"
      ],
      "metadata": {
        "colab": {
          "base_uri": "https://localhost:8080/"
        },
        "id": "b-KCZo_SCqu6",
        "outputId": "3ba69432-10eb-4092-9dfc-eaae4e3a6928"
      },
      "execution_count": null,
      "outputs": [
        {
          "output_type": "execute_result",
          "data": {
            "text/plain": [
              "GaussianNB()"
            ]
          },
          "metadata": {},
          "execution_count": 562
        }
      ]
    },
    {
      "cell_type": "code",
      "source": [
        "print(model2.score(xtrain,ytrain))\n",
        "print(model2.score(xtest,ytest))"
      ],
      "metadata": {
        "colab": {
          "base_uri": "https://localhost:8080/"
        },
        "id": "CXFr9iH_Ctio",
        "outputId": "6c2c8db3-adb7-42ec-87fe-1c1f04dba5bf"
      },
      "execution_count": null,
      "outputs": [
        {
          "output_type": "stream",
          "name": "stdout",
          "text": [
            "0.9560908147977412\n",
            "0.952808988764045\n"
          ]
        }
      ]
    },
    {
      "cell_type": "code",
      "source": [
        "from sklearn.metrics import confusion_matrix\n",
        "\n",
        "print(confusion_matrix(ytrain, model2.predict(xtrain)))\n",
        "\n",
        "print(confusion_matrix(ytest, model2.predict(xtest)))"
      ],
      "metadata": {
        "colab": {
          "base_uri": "https://localhost:8080/"
        },
        "id": "J1YnWCjPC1ui",
        "outputId": "0556717c-8f6a-402c-f9fa-28d40e06bf0f"
      },
      "execution_count": null,
      "outputs": [
        {
          "output_type": "stream",
          "name": "stdout",
          "text": [
            "[[ 3771     0   352]\n",
            " [    0 11356     0]\n",
            " [    0   410  1465]]\n",
            "[[1280    0  132]\n",
            " [   0 3757    0]\n",
            " [   0  141  475]]\n"
          ]
        }
      ]
    },
    {
      "cell_type": "code",
      "source": [
        "print(classification_report(ytrain, model2.predict(xtrain)))\n",
        "\n",
        "print(classification_report(ytest, model2.predict(xtest)))"
      ],
      "metadata": {
        "colab": {
          "base_uri": "https://localhost:8080/"
        },
        "id": "shv4KiJ3EfyY",
        "outputId": "1338e1d1-b306-4ea1-df6c-51d82c4ce812"
      },
      "execution_count": null,
      "outputs": [
        {
          "output_type": "stream",
          "name": "stdout",
          "text": [
            "                  precision    recall  f1-score   support\n",
            "\n",
            "Not RTW 26 Weeks       1.00      0.91      0.96      4123\n",
            "    RTW 13 Weeks       0.97      1.00      0.98     11356\n",
            "    RTW 26 Weeks       0.81      0.78      0.79      1875\n",
            "\n",
            "        accuracy                           0.96     17354\n",
            "       macro avg       0.92      0.90      0.91     17354\n",
            "    weighted avg       0.96      0.96      0.96     17354\n",
            "\n",
            "                  precision    recall  f1-score   support\n",
            "\n",
            "Not RTW 26 Weeks       1.00      0.91      0.95      1412\n",
            "    RTW 13 Weeks       0.96      1.00      0.98      3757\n",
            "    RTW 26 Weeks       0.78      0.77      0.78       616\n",
            "\n",
            "        accuracy                           0.95      5785\n",
            "       macro avg       0.92      0.89      0.90      5785\n",
            "    weighted avg       0.95      0.95      0.95      5785\n",
            "\n"
          ]
        }
      ]
    },
    {
      "cell_type": "code",
      "source": [
        "model2.predict(xtrain)"
      ],
      "metadata": {
        "colab": {
          "base_uri": "https://localhost:8080/"
        },
        "id": "znc-8M9v4MXi",
        "outputId": "3e46f733-db74-4be4-f230-d00f8ab9d272"
      },
      "execution_count": null,
      "outputs": [
        {
          "output_type": "execute_result",
          "data": {
            "text/plain": [
              "array(['RTW 13 Weeks', 'RTW 13 Weeks', 'Not RTW 26 Weeks', ...,\n",
              "       'RTW 13 Weeks', 'RTW 13 Weeks', 'RTW 13 Weeks'], dtype='<U16')"
            ]
          },
          "metadata": {},
          "execution_count": 566
        }
      ]
    },
    {
      "cell_type": "code",
      "source": [
        "model2.predict_proba(xtrain)"
      ],
      "metadata": {
        "colab": {
          "base_uri": "https://localhost:8080/"
        },
        "id": "WdxC_JTeDzuR",
        "outputId": "941cdfd3-fb08-4f76-c0ed-9e81ae2b1937"
      },
      "execution_count": null,
      "outputs": [
        {
          "output_type": "execute_result",
          "data": {
            "text/plain": [
              "array([[1.86791382e-02, 9.76397563e-01, 4.92329886e-03],\n",
              "       [1.45602234e-02, 9.71214003e-01, 1.42257739e-02],\n",
              "       [1.00000000e+00, 2.01675008e-21, 7.64406602e-12],\n",
              "       ...,\n",
              "       [1.61809580e-02, 9.80153376e-01, 3.66566556e-03],\n",
              "       [2.29483398e-02, 9.15991066e-01, 6.10605946e-02],\n",
              "       [6.21247597e-02, 6.43772447e-01, 2.94102793e-01]])"
            ]
          },
          "metadata": {},
          "execution_count": 567
        }
      ]
    },
    {
      "cell_type": "markdown",
      "source": [
        "**Tuning threshold**\n",
        "****"
      ],
      "metadata": {
        "id": "qptgt9OXEldk"
      }
    },
    {
      "cell_type": "code",
      "source": [
        "from sklearn.metrics import roc_curve,roc_auc_score\n",
        "fpr,tpr,thresh = roc_curve(ytrain , model2.predict_proba(xtrain)[: , 1])"
      ],
      "metadata": {
        "id": "-7xyQa9yC7Z5",
        "colab": {
          "base_uri": "https://localhost:8080/",
          "height": 328
        },
        "outputId": "90387e96-b702-43e2-f49c-c69e0eb0a3aa"
      },
      "execution_count": null,
      "outputs": [
        {
          "output_type": "error",
          "ename": "ValueError",
          "evalue": "ignored",
          "traceback": [
            "\u001b[0;31m---------------------------------------------------------------------------\u001b[0m",
            "\u001b[0;31mValueError\u001b[0m                                Traceback (most recent call last)",
            "\u001b[0;32m<ipython-input-477-99266ba2bb35>\u001b[0m in \u001b[0;36m<module>\u001b[0;34m\u001b[0m\n\u001b[1;32m      1\u001b[0m \u001b[0;32mfrom\u001b[0m \u001b[0msklearn\u001b[0m\u001b[0;34m.\u001b[0m\u001b[0mmetrics\u001b[0m \u001b[0;32mimport\u001b[0m \u001b[0mroc_curve\u001b[0m\u001b[0;34m,\u001b[0m\u001b[0mroc_auc_score\u001b[0m\u001b[0;34m\u001b[0m\u001b[0;34m\u001b[0m\u001b[0m\n\u001b[0;32m----> 2\u001b[0;31m \u001b[0mfpr\u001b[0m\u001b[0;34m,\u001b[0m\u001b[0mtpr\u001b[0m\u001b[0;34m,\u001b[0m\u001b[0mthresh\u001b[0m \u001b[0;34m=\u001b[0m \u001b[0mroc_curve\u001b[0m\u001b[0;34m(\u001b[0m\u001b[0mytrain\u001b[0m \u001b[0;34m,\u001b[0m \u001b[0mmodel2\u001b[0m\u001b[0;34m.\u001b[0m\u001b[0mpredict_proba\u001b[0m\u001b[0;34m(\u001b[0m\u001b[0mxtrain\u001b[0m\u001b[0;34m)\u001b[0m\u001b[0;34m[\u001b[0m\u001b[0;34m:\u001b[0m \u001b[0;34m,\u001b[0m \u001b[0;36m1\u001b[0m\u001b[0;34m]\u001b[0m\u001b[0;34m)\u001b[0m\u001b[0;34m\u001b[0m\u001b[0;34m\u001b[0m\u001b[0m\n\u001b[0m",
            "\u001b[0;32m/usr/local/lib/python3.8/dist-packages/sklearn/metrics/_ranking.py\u001b[0m in \u001b[0;36mroc_curve\u001b[0;34m(y_true, y_score, pos_label, sample_weight, drop_intermediate)\u001b[0m\n\u001b[1;32m    960\u001b[0m \u001b[0;34m\u001b[0m\u001b[0m\n\u001b[1;32m    961\u001b[0m     \"\"\"\n\u001b[0;32m--> 962\u001b[0;31m     fps, tps, thresholds = _binary_clf_curve(\n\u001b[0m\u001b[1;32m    963\u001b[0m         \u001b[0my_true\u001b[0m\u001b[0;34m,\u001b[0m \u001b[0my_score\u001b[0m\u001b[0;34m,\u001b[0m \u001b[0mpos_label\u001b[0m\u001b[0;34m=\u001b[0m\u001b[0mpos_label\u001b[0m\u001b[0;34m,\u001b[0m \u001b[0msample_weight\u001b[0m\u001b[0;34m=\u001b[0m\u001b[0msample_weight\u001b[0m\u001b[0;34m\u001b[0m\u001b[0;34m\u001b[0m\u001b[0m\n\u001b[1;32m    964\u001b[0m     )\n",
            "\u001b[0;32m/usr/local/lib/python3.8/dist-packages/sklearn/metrics/_ranking.py\u001b[0m in \u001b[0;36m_binary_clf_curve\u001b[0;34m(y_true, y_score, pos_label, sample_weight)\u001b[0m\n\u001b[1;32m    729\u001b[0m     \u001b[0my_type\u001b[0m \u001b[0;34m=\u001b[0m \u001b[0mtype_of_target\u001b[0m\u001b[0;34m(\u001b[0m\u001b[0my_true\u001b[0m\u001b[0;34m)\u001b[0m\u001b[0;34m\u001b[0m\u001b[0;34m\u001b[0m\u001b[0m\n\u001b[1;32m    730\u001b[0m     \u001b[0;32mif\u001b[0m \u001b[0;32mnot\u001b[0m \u001b[0;34m(\u001b[0m\u001b[0my_type\u001b[0m \u001b[0;34m==\u001b[0m \u001b[0;34m\"binary\"\u001b[0m \u001b[0;32mor\u001b[0m \u001b[0;34m(\u001b[0m\u001b[0my_type\u001b[0m \u001b[0;34m==\u001b[0m \u001b[0;34m\"multiclass\"\u001b[0m \u001b[0;32mand\u001b[0m \u001b[0mpos_label\u001b[0m \u001b[0;32mis\u001b[0m \u001b[0;32mnot\u001b[0m \u001b[0;32mNone\u001b[0m\u001b[0;34m)\u001b[0m\u001b[0;34m)\u001b[0m\u001b[0;34m:\u001b[0m\u001b[0;34m\u001b[0m\u001b[0;34m\u001b[0m\u001b[0m\n\u001b[0;32m--> 731\u001b[0;31m         \u001b[0;32mraise\u001b[0m \u001b[0mValueError\u001b[0m\u001b[0;34m(\u001b[0m\u001b[0;34m\"{0} format is not supported\"\u001b[0m\u001b[0;34m.\u001b[0m\u001b[0mformat\u001b[0m\u001b[0;34m(\u001b[0m\u001b[0my_type\u001b[0m\u001b[0;34m)\u001b[0m\u001b[0;34m)\u001b[0m\u001b[0;34m\u001b[0m\u001b[0;34m\u001b[0m\u001b[0m\n\u001b[0m\u001b[1;32m    732\u001b[0m \u001b[0;34m\u001b[0m\u001b[0m\n\u001b[1;32m    733\u001b[0m     \u001b[0mcheck_consistent_length\u001b[0m\u001b[0;34m(\u001b[0m\u001b[0my_true\u001b[0m\u001b[0;34m,\u001b[0m \u001b[0my_score\u001b[0m\u001b[0;34m,\u001b[0m \u001b[0msample_weight\u001b[0m\u001b[0;34m)\u001b[0m\u001b[0;34m\u001b[0m\u001b[0;34m\u001b[0m\u001b[0m\n",
            "\u001b[0;31mValueError\u001b[0m: multiclass format is not supported"
          ]
        }
      ]
    },
    {
      "cell_type": "code",
      "source": [
        "g_val = tpr * (1-fpr)\n",
        "print(g_val.argmax())"
      ],
      "metadata": {
        "colab": {
          "base_uri": "https://localhost:8080/",
          "height": 183
        },
        "id": "DbV2jXEpDG_A",
        "outputId": "2cf86e7b-0503-4208-d348-64cefea4aba7"
      },
      "execution_count": null,
      "outputs": [
        {
          "output_type": "error",
          "ename": "NameError",
          "evalue": "ignored",
          "traceback": [
            "\u001b[0;31m---------------------------------------------------------------------------\u001b[0m",
            "\u001b[0;31mNameError\u001b[0m                                 Traceback (most recent call last)",
            "\u001b[0;32m<ipython-input-478-7ada473e946a>\u001b[0m in \u001b[0;36m<module>\u001b[0;34m\u001b[0m\n\u001b[0;32m----> 1\u001b[0;31m \u001b[0mg_val\u001b[0m \u001b[0;34m=\u001b[0m \u001b[0mtpr\u001b[0m \u001b[0;34m*\u001b[0m \u001b[0;34m(\u001b[0m\u001b[0;36m1\u001b[0m\u001b[0;34m-\u001b[0m\u001b[0mfpr\u001b[0m\u001b[0;34m)\u001b[0m\u001b[0;34m\u001b[0m\u001b[0;34m\u001b[0m\u001b[0m\n\u001b[0m\u001b[1;32m      2\u001b[0m \u001b[0mprint\u001b[0m\u001b[0;34m(\u001b[0m\u001b[0mg_val\u001b[0m\u001b[0;34m.\u001b[0m\u001b[0margmax\u001b[0m\u001b[0;34m(\u001b[0m\u001b[0;34m)\u001b[0m\u001b[0;34m)\u001b[0m\u001b[0;34m\u001b[0m\u001b[0;34m\u001b[0m\u001b[0m\n",
            "\u001b[0;31mNameError\u001b[0m: name 'tpr' is not defined"
          ]
        }
      ]
    },
    {
      "cell_type": "code",
      "source": [
        "print(thresh[5002])"
      ],
      "metadata": {
        "colab": {
          "base_uri": "https://localhost:8080/",
          "height": 165
        },
        "id": "0NxgRxUXEIjs",
        "outputId": "a2241531-dd0f-47ef-9382-b0ac4f9811d1"
      },
      "execution_count": null,
      "outputs": [
        {
          "output_type": "error",
          "ename": "NameError",
          "evalue": "ignored",
          "traceback": [
            "\u001b[0;31m---------------------------------------------------------------------------\u001b[0m",
            "\u001b[0;31mNameError\u001b[0m                                 Traceback (most recent call last)",
            "\u001b[0;32m<ipython-input-479-f0b68a50f03b>\u001b[0m in \u001b[0;36m<module>\u001b[0;34m\u001b[0m\n\u001b[0;32m----> 1\u001b[0;31m \u001b[0mprint\u001b[0m\u001b[0;34m(\u001b[0m\u001b[0mthresh\u001b[0m\u001b[0;34m[\u001b[0m\u001b[0;36m5002\u001b[0m\u001b[0;34m]\u001b[0m\u001b[0;34m)\u001b[0m\u001b[0;34m\u001b[0m\u001b[0;34m\u001b[0m\u001b[0m\n\u001b[0m",
            "\u001b[0;31mNameError\u001b[0m: name 'thresh' is not defined"
          ]
        }
      ]
    },
    {
      "cell_type": "code",
      "source": [
        "model2.predict_proba(xtrain)[: , 1] > 0.55"
      ],
      "metadata": {
        "colab": {
          "base_uri": "https://localhost:8080/"
        },
        "id": "aihTZjHcFuhw",
        "outputId": "bdd7e2cb-4265-4edc-bc76-fd051670b848"
      },
      "execution_count": null,
      "outputs": [
        {
          "output_type": "execute_result",
          "data": {
            "text/plain": [
              "array([ True, False, False, ...,  True, False,  True])"
            ]
          },
          "metadata": {},
          "execution_count": 480
        }
      ]
    },
    {
      "cell_type": "code",
      "source": [
        "ypredTrainThresh = np.where(model2.predict_proba(xtrain)[: , 1] > 0.55 , 1 , 0)\n",
        "ypredTestThresh = np.where(model2.predict_proba(xtest)[: , 1] > 0.55 , 1 , 0)"
      ],
      "metadata": {
        "id": "vCIh_fKqEXEk"
      },
      "execution_count": null,
      "outputs": []
    },
    {
      "cell_type": "code",
      "source": [
        "ypredTrainThresh"
      ],
      "metadata": {
        "colab": {
          "base_uri": "https://localhost:8080/"
        },
        "id": "ZA54jT8MFSJ5",
        "outputId": "702712d3-1d5d-4c0b-c332-c7af2ccb0c6c"
      },
      "execution_count": null,
      "outputs": [
        {
          "output_type": "execute_result",
          "data": {
            "text/plain": [
              "array([1, 0, 0, ..., 1, 0, 1])"
            ]
          },
          "metadata": {},
          "execution_count": 482
        }
      ]
    },
    {
      "cell_type": "code",
      "source": [
        "print(confusion_matrix(ytrain, ypredTrainThresh))"
      ],
      "metadata": {
        "colab": {
          "base_uri": "https://localhost:8080/",
          "height": 311
        },
        "id": "hiWTHy2dF2vt",
        "outputId": "f738b7c6-c0f4-4eb4-966d-799e59c6ff2c"
      },
      "execution_count": null,
      "outputs": [
        {
          "output_type": "error",
          "ename": "ValueError",
          "evalue": "ignored",
          "traceback": [
            "\u001b[0;31m---------------------------------------------------------------------------\u001b[0m",
            "\u001b[0;31mValueError\u001b[0m                                Traceback (most recent call last)",
            "\u001b[0;32m<ipython-input-483-58e063c0f707>\u001b[0m in \u001b[0;36m<module>\u001b[0;34m\u001b[0m\n\u001b[0;32m----> 1\u001b[0;31m \u001b[0mprint\u001b[0m\u001b[0;34m(\u001b[0m\u001b[0mconfusion_matrix\u001b[0m\u001b[0;34m(\u001b[0m\u001b[0mytrain\u001b[0m\u001b[0;34m,\u001b[0m \u001b[0mypredTrainThresh\u001b[0m\u001b[0;34m)\u001b[0m\u001b[0;34m)\u001b[0m\u001b[0;34m\u001b[0m\u001b[0;34m\u001b[0m\u001b[0m\n\u001b[0m",
            "\u001b[0;32m/usr/local/lib/python3.8/dist-packages/sklearn/metrics/_classification.py\u001b[0m in \u001b[0;36mconfusion_matrix\u001b[0;34m(y_true, y_pred, labels, sample_weight, normalize)\u001b[0m\n\u001b[1;32m    310\u001b[0m \u001b[0;34m\u001b[0m\u001b[0m\n\u001b[1;32m    311\u001b[0m     \u001b[0;32mif\u001b[0m \u001b[0mlabels\u001b[0m \u001b[0;32mis\u001b[0m \u001b[0;32mNone\u001b[0m\u001b[0;34m:\u001b[0m\u001b[0;34m\u001b[0m\u001b[0;34m\u001b[0m\u001b[0m\n\u001b[0;32m--> 312\u001b[0;31m         \u001b[0mlabels\u001b[0m \u001b[0;34m=\u001b[0m \u001b[0munique_labels\u001b[0m\u001b[0;34m(\u001b[0m\u001b[0my_true\u001b[0m\u001b[0;34m,\u001b[0m \u001b[0my_pred\u001b[0m\u001b[0;34m)\u001b[0m\u001b[0;34m\u001b[0m\u001b[0;34m\u001b[0m\u001b[0m\n\u001b[0m\u001b[1;32m    313\u001b[0m     \u001b[0;32melse\u001b[0m\u001b[0;34m:\u001b[0m\u001b[0;34m\u001b[0m\u001b[0;34m\u001b[0m\u001b[0m\n\u001b[1;32m    314\u001b[0m         \u001b[0mlabels\u001b[0m \u001b[0;34m=\u001b[0m \u001b[0mnp\u001b[0m\u001b[0;34m.\u001b[0m\u001b[0masarray\u001b[0m\u001b[0;34m(\u001b[0m\u001b[0mlabels\u001b[0m\u001b[0;34m)\u001b[0m\u001b[0;34m\u001b[0m\u001b[0;34m\u001b[0m\u001b[0m\n",
            "\u001b[0;32m/usr/local/lib/python3.8/dist-packages/sklearn/utils/multiclass.py\u001b[0m in \u001b[0;36munique_labels\u001b[0;34m(*ys)\u001b[0m\n\u001b[1;32m    105\u001b[0m     \u001b[0;31m# Check that we don't mix string type with number type\u001b[0m\u001b[0;34m\u001b[0m\u001b[0;34m\u001b[0m\u001b[0;34m\u001b[0m\u001b[0m\n\u001b[1;32m    106\u001b[0m     \u001b[0;32mif\u001b[0m \u001b[0mlen\u001b[0m\u001b[0;34m(\u001b[0m\u001b[0mset\u001b[0m\u001b[0;34m(\u001b[0m\u001b[0misinstance\u001b[0m\u001b[0;34m(\u001b[0m\u001b[0mlabel\u001b[0m\u001b[0;34m,\u001b[0m \u001b[0mstr\u001b[0m\u001b[0;34m)\u001b[0m \u001b[0;32mfor\u001b[0m \u001b[0mlabel\u001b[0m \u001b[0;32min\u001b[0m \u001b[0mys_labels\u001b[0m\u001b[0;34m)\u001b[0m\u001b[0;34m)\u001b[0m \u001b[0;34m>\u001b[0m \u001b[0;36m1\u001b[0m\u001b[0;34m:\u001b[0m\u001b[0;34m\u001b[0m\u001b[0;34m\u001b[0m\u001b[0m\n\u001b[0;32m--> 107\u001b[0;31m         \u001b[0;32mraise\u001b[0m \u001b[0mValueError\u001b[0m\u001b[0;34m(\u001b[0m\u001b[0;34m\"Mix of label input types (string and number)\"\u001b[0m\u001b[0;34m)\u001b[0m\u001b[0;34m\u001b[0m\u001b[0;34m\u001b[0m\u001b[0m\n\u001b[0m\u001b[1;32m    108\u001b[0m \u001b[0;34m\u001b[0m\u001b[0m\n\u001b[1;32m    109\u001b[0m     \u001b[0;32mreturn\u001b[0m \u001b[0mnp\u001b[0m\u001b[0;34m.\u001b[0m\u001b[0marray\u001b[0m\u001b[0;34m(\u001b[0m\u001b[0msorted\u001b[0m\u001b[0;34m(\u001b[0m\u001b[0mys_labels\u001b[0m\u001b[0;34m)\u001b[0m\u001b[0;34m)\u001b[0m\u001b[0;34m\u001b[0m\u001b[0;34m\u001b[0m\u001b[0m\n",
            "\u001b[0;31mValueError\u001b[0m: Mix of label input types (string and number)"
          ]
        }
      ]
    },
    {
      "cell_type": "code",
      "source": [
        "print(confusion_matrix(ytest, ypredTestThresh))"
      ],
      "metadata": {
        "colab": {
          "base_uri": "https://localhost:8080/"
        },
        "id": "IYmzl6CmF9az",
        "outputId": "834c5959-56ef-4628-f49b-cd10819e20a9"
      },
      "execution_count": null,
      "outputs": [
        {
          "output_type": "stream",
          "name": "stdout",
          "text": [
            "[[2122 2332]\n",
            " [1839 2631]]\n"
          ]
        }
      ]
    },
    {
      "cell_type": "code",
      "source": [
        "from sklearn.metrics import classification_report,accuracy_score"
      ],
      "metadata": {
        "id": "rcaNyo_qGDTk"
      },
      "execution_count": null,
      "outputs": []
    },
    {
      "cell_type": "code",
      "source": [
        "print(classification_report(ytrain, ypredTrainThresh))"
      ],
      "metadata": {
        "colab": {
          "base_uri": "https://localhost:8080/"
        },
        "id": "IerbLIEO7DqP",
        "outputId": "2b44cb61-b9a3-4b2f-a030-e6a2ae69ce7e"
      },
      "execution_count": null,
      "outputs": [
        {
          "output_type": "stream",
          "name": "stdout",
          "text": [
            "              precision    recall  f1-score   support\n",
            "\n",
            "           0       0.55      0.48      0.52     13394\n",
            "           1       0.54      0.61      0.57     13378\n",
            "\n",
            "    accuracy                           0.55     26772\n",
            "   macro avg       0.55      0.55      0.55     26772\n",
            "weighted avg       0.55      0.55      0.55     26772\n",
            "\n"
          ]
        }
      ]
    },
    {
      "cell_type": "code",
      "source": [
        "print(classification_report(ytest, ypredTestThresh))"
      ],
      "metadata": {
        "colab": {
          "base_uri": "https://localhost:8080/"
        },
        "id": "TtG5RpAR7IV5",
        "outputId": "90b290c5-6535-4ba3-e8f7-c375a2af3c7d"
      },
      "execution_count": null,
      "outputs": [
        {
          "output_type": "stream",
          "name": "stdout",
          "text": [
            "              precision    recall  f1-score   support\n",
            "\n",
            "           0       0.54      0.48      0.50      4454\n",
            "           1       0.53      0.59      0.56      4470\n",
            "\n",
            "    accuracy                           0.53      8924\n",
            "   macro avg       0.53      0.53      0.53      8924\n",
            "weighted avg       0.53      0.53      0.53      8924\n",
            "\n"
          ]
        }
      ]
    },
    {
      "cell_type": "code",
      "source": [
        "print(accuracy_score(ytrain, ypredTrainThresh))\n",
        "print(accuracy_score(ytest, ypredTestThresh))"
      ],
      "metadata": {
        "colab": {
          "base_uri": "https://localhost:8080/"
        },
        "id": "a5j9ug2h8bOI",
        "outputId": "949cfbc1-0668-418f-dfd2-f52d84e9a77e"
      },
      "execution_count": null,
      "outputs": [
        {
          "output_type": "stream",
          "name": "stdout",
          "text": [
            "0.5477364410578216\n",
            "0.532608695652174\n"
          ]
        }
      ]
    },
    {
      "cell_type": "markdown",
      "source": [
        "**Use Random Forest Classifier**"
      ],
      "metadata": {
        "id": "x2n22YmV9SaR"
      }
    },
    {
      "cell_type": "code",
      "source": [
        "df5.head()"
      ],
      "metadata": {
        "colab": {
          "base_uri": "https://localhost:8080/",
          "height": 456
        },
        "id": "9Jvxebvb9Lqq",
        "outputId": "804e9503-26af-49a9-9b0b-f9377209bdfe"
      },
      "execution_count": null,
      "outputs": [
        {
          "output_type": "execute_result",
          "data": {
            "text/plain": [
              "   Agency NN  Total Paid  Paid Days Lost  Days to RTW  RTW Category  \\\n",
              "0       7069     8580.00           26.01           46  RTW 13 Weeks   \n",
              "1      63246      573.66            2.00            1  RTW 13 Weeks   \n",
              "2    2043954      796.97            2.02            1  RTW 13 Weeks   \n",
              "3      63246     5570.19           26.00           35  RTW 13 Weeks   \n",
              "4      63246    35406.63           75.09          101  RTW 26 Weeks   \n",
              "\n",
              "   Age at Accident Date  \\\n",
              "0                    55   \n",
              "1                    49   \n",
              "2                    48   \n",
              "3                    41   \n",
              "4                    63   \n",
              "\n",
              "   Injury Agency Group_Animal, Human and Biological Agencies  \\\n",
              "0                                                  0           \n",
              "1                                                  0           \n",
              "2                                                  1           \n",
              "3                                                  1           \n",
              "4                                                  0           \n",
              "\n",
              "   Injury Agency Group_Environmental Agencies  \\\n",
              "0                                           0   \n",
              "1                                           0   \n",
              "2                                           0   \n",
              "3                                           0   \n",
              "4                                           1   \n",
              "\n",
              "   Injury Agency Group_Materials and Substances  \\\n",
              "0                                             0   \n",
              "1                                             0   \n",
              "2                                             0   \n",
              "3                                             0   \n",
              "4                                             0   \n",
              "\n",
              "   Injury Agency Group_Mobile Plant and Transport  ...  \\\n",
              "0                                               1  ...   \n",
              "1                                               0  ...   \n",
              "2                                               0  ...   \n",
              "3                                               0  ...   \n",
              "4                                               0  ...   \n",
              "\n",
              "   Mechanism Group_Falls, Slips and Trips of a Person  Mechanism Group_Other  \\\n",
              "0                                                  0                       0   \n",
              "1                                                  1                       0   \n",
              "2                                                  0                       0   \n",
              "3                                                  0                       0   \n",
              "4                                                  1                       0   \n",
              "\n",
              "   Nature Group_Other  Nature Group_Sprains, Strains and Dislocations  \\\n",
              "0                   0                                               1   \n",
              "1                   1                                               0   \n",
              "2                   1                                               0   \n",
              "3                   0                                               1   \n",
              "4                   0                                               1   \n",
              "\n",
              "   Major_Intermediate Clerical, Sales and Service Workers  Major_Others  \\\n",
              "0                                                  1                  0   \n",
              "1                                                  1                  0   \n",
              "2                                                  0                  0   \n",
              "3                                                  1                  0   \n",
              "4                                                  0                  1   \n",
              "\n",
              "   Major_Professionals  Gender_Female    Gender_Male      Gender_Unknown   \n",
              "0                    0                0                1                0  \n",
              "1                    0                1                0                0  \n",
              "2                    1                0                1                0  \n",
              "3                    0                0                1                0  \n",
              "4                    0                0                1                0  \n",
              "\n",
              "[5 rows x 30 columns]"
            ],
            "text/html": [
              "\n",
              "  <div id=\"df-3b491a7d-9c41-4495-8ed5-05b001a8333d\">\n",
              "    <div class=\"colab-df-container\">\n",
              "      <div>\n",
              "<style scoped>\n",
              "    .dataframe tbody tr th:only-of-type {\n",
              "        vertical-align: middle;\n",
              "    }\n",
              "\n",
              "    .dataframe tbody tr th {\n",
              "        vertical-align: top;\n",
              "    }\n",
              "\n",
              "    .dataframe thead th {\n",
              "        text-align: right;\n",
              "    }\n",
              "</style>\n",
              "<table border=\"1\" class=\"dataframe\">\n",
              "  <thead>\n",
              "    <tr style=\"text-align: right;\">\n",
              "      <th></th>\n",
              "      <th>Agency NN</th>\n",
              "      <th>Total Paid</th>\n",
              "      <th>Paid Days Lost</th>\n",
              "      <th>Days to RTW</th>\n",
              "      <th>RTW Category</th>\n",
              "      <th>Age at Accident Date</th>\n",
              "      <th>Injury Agency Group_Animal, Human and Biological Agencies</th>\n",
              "      <th>Injury Agency Group_Environmental Agencies</th>\n",
              "      <th>Injury Agency Group_Materials and Substances</th>\n",
              "      <th>Injury Agency Group_Mobile Plant and Transport</th>\n",
              "      <th>...</th>\n",
              "      <th>Mechanism Group_Falls, Slips and Trips of a Person</th>\n",
              "      <th>Mechanism Group_Other</th>\n",
              "      <th>Nature Group_Other</th>\n",
              "      <th>Nature Group_Sprains, Strains and Dislocations</th>\n",
              "      <th>Major_Intermediate Clerical, Sales and Service Workers</th>\n",
              "      <th>Major_Others</th>\n",
              "      <th>Major_Professionals</th>\n",
              "      <th>Gender_Female</th>\n",
              "      <th>Gender_Male</th>\n",
              "      <th>Gender_Unknown</th>\n",
              "    </tr>\n",
              "  </thead>\n",
              "  <tbody>\n",
              "    <tr>\n",
              "      <th>0</th>\n",
              "      <td>7069</td>\n",
              "      <td>8580.00</td>\n",
              "      <td>26.01</td>\n",
              "      <td>46</td>\n",
              "      <td>RTW 13 Weeks</td>\n",
              "      <td>55</td>\n",
              "      <td>0</td>\n",
              "      <td>0</td>\n",
              "      <td>0</td>\n",
              "      <td>1</td>\n",
              "      <td>...</td>\n",
              "      <td>0</td>\n",
              "      <td>0</td>\n",
              "      <td>0</td>\n",
              "      <td>1</td>\n",
              "      <td>1</td>\n",
              "      <td>0</td>\n",
              "      <td>0</td>\n",
              "      <td>0</td>\n",
              "      <td>1</td>\n",
              "      <td>0</td>\n",
              "    </tr>\n",
              "    <tr>\n",
              "      <th>1</th>\n",
              "      <td>63246</td>\n",
              "      <td>573.66</td>\n",
              "      <td>2.00</td>\n",
              "      <td>1</td>\n",
              "      <td>RTW 13 Weeks</td>\n",
              "      <td>49</td>\n",
              "      <td>0</td>\n",
              "      <td>0</td>\n",
              "      <td>0</td>\n",
              "      <td>0</td>\n",
              "      <td>...</td>\n",
              "      <td>1</td>\n",
              "      <td>0</td>\n",
              "      <td>1</td>\n",
              "      <td>0</td>\n",
              "      <td>1</td>\n",
              "      <td>0</td>\n",
              "      <td>0</td>\n",
              "      <td>1</td>\n",
              "      <td>0</td>\n",
              "      <td>0</td>\n",
              "    </tr>\n",
              "    <tr>\n",
              "      <th>2</th>\n",
              "      <td>2043954</td>\n",
              "      <td>796.97</td>\n",
              "      <td>2.02</td>\n",
              "      <td>1</td>\n",
              "      <td>RTW 13 Weeks</td>\n",
              "      <td>48</td>\n",
              "      <td>1</td>\n",
              "      <td>0</td>\n",
              "      <td>0</td>\n",
              "      <td>0</td>\n",
              "      <td>...</td>\n",
              "      <td>0</td>\n",
              "      <td>0</td>\n",
              "      <td>1</td>\n",
              "      <td>0</td>\n",
              "      <td>0</td>\n",
              "      <td>0</td>\n",
              "      <td>1</td>\n",
              "      <td>0</td>\n",
              "      <td>1</td>\n",
              "      <td>0</td>\n",
              "    </tr>\n",
              "    <tr>\n",
              "      <th>3</th>\n",
              "      <td>63246</td>\n",
              "      <td>5570.19</td>\n",
              "      <td>26.00</td>\n",
              "      <td>35</td>\n",
              "      <td>RTW 13 Weeks</td>\n",
              "      <td>41</td>\n",
              "      <td>1</td>\n",
              "      <td>0</td>\n",
              "      <td>0</td>\n",
              "      <td>0</td>\n",
              "      <td>...</td>\n",
              "      <td>0</td>\n",
              "      <td>0</td>\n",
              "      <td>0</td>\n",
              "      <td>1</td>\n",
              "      <td>1</td>\n",
              "      <td>0</td>\n",
              "      <td>0</td>\n",
              "      <td>0</td>\n",
              "      <td>1</td>\n",
              "      <td>0</td>\n",
              "    </tr>\n",
              "    <tr>\n",
              "      <th>4</th>\n",
              "      <td>63246</td>\n",
              "      <td>35406.63</td>\n",
              "      <td>75.09</td>\n",
              "      <td>101</td>\n",
              "      <td>RTW 26 Weeks</td>\n",
              "      <td>63</td>\n",
              "      <td>0</td>\n",
              "      <td>1</td>\n",
              "      <td>0</td>\n",
              "      <td>0</td>\n",
              "      <td>...</td>\n",
              "      <td>1</td>\n",
              "      <td>0</td>\n",
              "      <td>0</td>\n",
              "      <td>1</td>\n",
              "      <td>0</td>\n",
              "      <td>1</td>\n",
              "      <td>0</td>\n",
              "      <td>0</td>\n",
              "      <td>1</td>\n",
              "      <td>0</td>\n",
              "    </tr>\n",
              "  </tbody>\n",
              "</table>\n",
              "<p>5 rows × 30 columns</p>\n",
              "</div>\n",
              "      <button class=\"colab-df-convert\" onclick=\"convertToInteractive('df-3b491a7d-9c41-4495-8ed5-05b001a8333d')\"\n",
              "              title=\"Convert this dataframe to an interactive table.\"\n",
              "              style=\"display:none;\">\n",
              "        \n",
              "  <svg xmlns=\"http://www.w3.org/2000/svg\" height=\"24px\"viewBox=\"0 0 24 24\"\n",
              "       width=\"24px\">\n",
              "    <path d=\"M0 0h24v24H0V0z\" fill=\"none\"/>\n",
              "    <path d=\"M18.56 5.44l.94 2.06.94-2.06 2.06-.94-2.06-.94-.94-2.06-.94 2.06-2.06.94zm-11 1L8.5 8.5l.94-2.06 2.06-.94-2.06-.94L8.5 2.5l-.94 2.06-2.06.94zm10 10l.94 2.06.94-2.06 2.06-.94-2.06-.94-.94-2.06-.94 2.06-2.06.94z\"/><path d=\"M17.41 7.96l-1.37-1.37c-.4-.4-.92-.59-1.43-.59-.52 0-1.04.2-1.43.59L10.3 9.45l-7.72 7.72c-.78.78-.78 2.05 0 2.83L4 21.41c.39.39.9.59 1.41.59.51 0 1.02-.2 1.41-.59l7.78-7.78 2.81-2.81c.8-.78.8-2.07 0-2.86zM5.41 20L4 18.59l7.72-7.72 1.47 1.35L5.41 20z\"/>\n",
              "  </svg>\n",
              "      </button>\n",
              "      \n",
              "  <style>\n",
              "    .colab-df-container {\n",
              "      display:flex;\n",
              "      flex-wrap:wrap;\n",
              "      gap: 12px;\n",
              "    }\n",
              "\n",
              "    .colab-df-convert {\n",
              "      background-color: #E8F0FE;\n",
              "      border: none;\n",
              "      border-radius: 50%;\n",
              "      cursor: pointer;\n",
              "      display: none;\n",
              "      fill: #1967D2;\n",
              "      height: 32px;\n",
              "      padding: 0 0 0 0;\n",
              "      width: 32px;\n",
              "    }\n",
              "\n",
              "    .colab-df-convert:hover {\n",
              "      background-color: #E2EBFA;\n",
              "      box-shadow: 0px 1px 2px rgba(60, 64, 67, 0.3), 0px 1px 3px 1px rgba(60, 64, 67, 0.15);\n",
              "      fill: #174EA6;\n",
              "    }\n",
              "\n",
              "    [theme=dark] .colab-df-convert {\n",
              "      background-color: #3B4455;\n",
              "      fill: #D2E3FC;\n",
              "    }\n",
              "\n",
              "    [theme=dark] .colab-df-convert:hover {\n",
              "      background-color: #434B5C;\n",
              "      box-shadow: 0px 1px 3px 1px rgba(0, 0, 0, 0.15);\n",
              "      filter: drop-shadow(0px 1px 2px rgba(0, 0, 0, 0.3));\n",
              "      fill: #FFFFFF;\n",
              "    }\n",
              "  </style>\n",
              "\n",
              "      <script>\n",
              "        const buttonEl =\n",
              "          document.querySelector('#df-3b491a7d-9c41-4495-8ed5-05b001a8333d button.colab-df-convert');\n",
              "        buttonEl.style.display =\n",
              "          google.colab.kernel.accessAllowed ? 'block' : 'none';\n",
              "\n",
              "        async function convertToInteractive(key) {\n",
              "          const element = document.querySelector('#df-3b491a7d-9c41-4495-8ed5-05b001a8333d');\n",
              "          const dataTable =\n",
              "            await google.colab.kernel.invokeFunction('convertToInteractive',\n",
              "                                                     [key], {});\n",
              "          if (!dataTable) return;\n",
              "\n",
              "          const docLinkHtml = 'Like what you see? Visit the ' +\n",
              "            '<a target=\"_blank\" href=https://colab.research.google.com/notebooks/data_table.ipynb>data table notebook</a>'\n",
              "            + ' to learn more about interactive tables.';\n",
              "          element.innerHTML = '';\n",
              "          dataTable['output_type'] = 'display_data';\n",
              "          await google.colab.output.renderOutput(dataTable, element);\n",
              "          const docLink = document.createElement('div');\n",
              "          docLink.innerHTML = docLinkHtml;\n",
              "          element.appendChild(docLink);\n",
              "        }\n",
              "      </script>\n",
              "    </div>\n",
              "  </div>\n",
              "  "
            ]
          },
          "metadata": {},
          "execution_count": 557
        }
      ]
    },
    {
      "cell_type": "code",
      "source": [
        "from imblearn.over_sampling import RandomOverSampler   #category 1 an 0 are unbalanced so we can makre them equal using it\n",
        "\n",
        "X2 = df5.drop(['RTW Category','Total Paid','Paid Days Lost'],axis=1)\n",
        "Y2 = df5['RTW Category']\n",
        "\n",
        "randomsampler = RandomOverSampler()\n",
        "\n",
        "x2,y2 = randomsampler.fit_resample(X2,Y2)"
      ],
      "metadata": {
        "id": "glNE280ZAk1I"
      },
      "execution_count": null,
      "outputs": []
    },
    {
      "cell_type": "code",
      "source": [
        "pd.DataFrame(Y2).value_counts()"
      ],
      "metadata": {
        "colab": {
          "base_uri": "https://localhost:8080/"
        },
        "id": "RMmNSjGaBZdo",
        "outputId": "efb5ed7d-6f49-4e83-d42b-b4891b33142e"
      },
      "execution_count": null,
      "outputs": [
        {
          "output_type": "execute_result",
          "data": {
            "text/plain": [
              "RTW Category    \n",
              "RTW 13 Weeks        15113\n",
              "Not RTW 26 Weeks     5535\n",
              "RTW 26 Weeks         2491\n",
              "dtype: int64"
            ]
          },
          "metadata": {},
          "execution_count": 569
        }
      ]
    },
    {
      "cell_type": "code",
      "source": [
        "pd.DataFrame(y2).value_counts()"
      ],
      "metadata": {
        "colab": {
          "base_uri": "https://localhost:8080/"
        },
        "id": "fnVVw1y5BTTe",
        "outputId": "b0454086-ae9c-47fe-ecaf-10d28db41ede"
      },
      "execution_count": null,
      "outputs": [
        {
          "output_type": "execute_result",
          "data": {
            "text/plain": [
              "RTW Category    \n",
              "Not RTW 26 Weeks    15113\n",
              "RTW 13 Weeks        15113\n",
              "RTW 26 Weeks        15113\n",
              "dtype: int64"
            ]
          },
          "metadata": {},
          "execution_count": 570
        }
      ]
    },
    {
      "cell_type": "code",
      "source": [
        "xtrain2,xtest2,ytrain2,ytest2 = train_test_split(x2,y2,random_state=0)\n",
        "\n",
        "from sklearn.ensemble import RandomForestClassifier\n",
        "rmodel1 = RandomForestClassifier(n_estimators=20)\n",
        "\n",
        "rmodel1.fit(xtrain2,ytrain2)\n",
        "\n",
        "print(rmodel1.score(xtrain2,ytrain2))\n",
        "print(rmodel1.score(xtest2,ytest2))\n"
      ],
      "metadata": {
        "colab": {
          "base_uri": "https://localhost:8080/"
        },
        "id": "1LHbL9Xw9oMA",
        "outputId": "e284d044-f6e8-449a-9a03-9201e84f9560"
      },
      "execution_count": null,
      "outputs": [
        {
          "output_type": "stream",
          "name": "stdout",
          "text": [
            "1.0\n",
            "1.0\n"
          ]
        }
      ]
    },
    {
      "cell_type": "code",
      "source": [
        "print(confusion_matrix(ytrain2, rmodel1.predict(xtrain2)))"
      ],
      "metadata": {
        "colab": {
          "base_uri": "https://localhost:8080/"
        },
        "id": "usk8Bn9f-sL4",
        "outputId": "11657fc0-5e0c-4d75-aeb2-c590ec617c5b"
      },
      "execution_count": null,
      "outputs": [
        {
          "output_type": "stream",
          "name": "stdout",
          "text": [
            "[[11375     0     0]\n",
            " [    0 11303     0]\n",
            " [    0     0 11326]]\n"
          ]
        }
      ]
    },
    {
      "cell_type": "code",
      "source": [
        "print(confusion_matrix(ytest2, rmodel1.predict(xtest2)))"
      ],
      "metadata": {
        "colab": {
          "base_uri": "https://localhost:8080/"
        },
        "id": "gWWEEwIf-sP2",
        "outputId": "981ad453-3f9e-4138-8742-c76be48355d8"
      },
      "execution_count": null,
      "outputs": [
        {
          "output_type": "stream",
          "name": "stdout",
          "text": [
            "[[3738    0    0]\n",
            " [   0 3810    0]\n",
            " [   0    0 3787]]\n"
          ]
        }
      ]
    },
    {
      "cell_type": "code",
      "source": [
        "print(classification_report(ytrain2, rmodel1.predict(xtrain2)))"
      ],
      "metadata": {
        "colab": {
          "base_uri": "https://localhost:8080/"
        },
        "id": "zwVooaaE-sT6",
        "outputId": "527afb04-4dac-47a2-b6ff-04fea592c539"
      },
      "execution_count": null,
      "outputs": [
        {
          "output_type": "stream",
          "name": "stdout",
          "text": [
            "                  precision    recall  f1-score   support\n",
            "\n",
            "Not RTW 26 Weeks       1.00      1.00      1.00     11375\n",
            "    RTW 13 Weeks       1.00      1.00      1.00     11303\n",
            "    RTW 26 Weeks       1.00      1.00      1.00     11326\n",
            "\n",
            "        accuracy                           1.00     34004\n",
            "       macro avg       1.00      1.00      1.00     34004\n",
            "    weighted avg       1.00      1.00      1.00     34004\n",
            "\n"
          ]
        }
      ]
    },
    {
      "cell_type": "code",
      "source": [
        "print(classification_report(ytest2, rmodel1.predict(xtest2)))"
      ],
      "metadata": {
        "colab": {
          "base_uri": "https://localhost:8080/"
        },
        "id": "LkolI70F-sXy",
        "outputId": "e60d8ad5-0c16-421a-fa21-a4630d0ca9e6"
      },
      "execution_count": null,
      "outputs": [
        {
          "output_type": "stream",
          "name": "stdout",
          "text": [
            "                  precision    recall  f1-score   support\n",
            "\n",
            "Not RTW 26 Weeks       1.00      1.00      1.00      3738\n",
            "    RTW 13 Weeks       1.00      1.00      1.00      3810\n",
            "    RTW 26 Weeks       1.00      1.00      1.00      3787\n",
            "\n",
            "        accuracy                           1.00     11335\n",
            "       macro avg       1.00      1.00      1.00     11335\n",
            "    weighted avg       1.00      1.00      1.00     11335\n",
            "\n"
          ]
        }
      ]
    },
    {
      "cell_type": "code",
      "source": [],
      "metadata": {
        "id": "O3krcsxsQYH6"
      },
      "execution_count": null,
      "outputs": []
    }
  ]
}